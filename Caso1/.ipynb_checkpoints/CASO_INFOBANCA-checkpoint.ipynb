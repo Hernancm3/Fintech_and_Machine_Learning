{
 "cells": [
  {
   "cell_type": "markdown",
   "metadata": {},
   "source": [
    "# Caso Financiero - Banco de Colombia\n",
    "\n",
    "## Business Understanding \n",
    "\n",
    "**¿Qué es una tarjeta de crédito?**\n",
    "\n",
    "Una tarjeta de crédito es un instrumento usado por personas naturales y jurídicas que les permiten acceder rápidamente al crédito.\n",
    " \n",
    "**¿Cómo funcionan?**\n",
    "\n",
    "Los bancos otorgan las tarjetas a personas asignando un cupo limite que pueden usar, este cupo basado en diversas características de cada persona. \n",
    " \n",
    "**Aspectos importantes para conocer en una tarjeta de crédito:**\n",
    "\n",
    "-\tFecha de Corte: Fecha de facturación en un periodo \n",
    "-\tFecha límite de pago: Fecha máxima para pagar el monto facturado en la fecha de corte sin generar intereses\n",
    "-\tIntereses corrientes: Intereses generados desde la compra hasta el momento del pago\n",
    "-\tIntereses de mora: Intereses generados después de la fecha límite de pago \n",
    " \n",
    "**¿Cómo ganan los bancos?**\n",
    "\n",
    "-   Cuotas de manejo: Una cuota mensual que el propietario de la tarjeta le paga al banco por el uso de la tarjeta.\n",
    "-   Intereses corrientes: algunas tarjetas generan intereses desde el momento de la compra hasta el momento en el que el usuario realiza el pago.\n",
    "-\tIntereses de mora: Intereses que se generan después de la fecha límite de pago \n",
    "-\tComisiones de comercio: Los comercios deberán pagar un porcentaje de la venta al momento de hacer una venta con tarjeta \n",
    " \n",
    "**¿Por qué las personas usan tarjetas de Crédito?:**\n",
    "\n",
    "-\tMecanismo eficiente de apalancamiento, permite a las personas usar crédito de manera rápida \n",
    "-\tBeneficios, muchas tarjetas de crédito otorgan diferentes tipos de beneficios; Descuentos, Puntos y Afiliaciones \n",
    "-\tOtorga un perfil crediticio a las personas \n",
    " \n",
    " \n",
    " \n",
    "**¿Cuál es el proceso en una compra?** \n",
    "\n",
    "1.\tLectura de tarjeta: Se lee el chip de la tarjeta, o bajo tecnología NFC se obtienen los datos de la tarjeta\n",
    "2.\tSe ingresa el monto: El vendedor asigna el monto de la compra\n",
    "3.\tSolicitud de autorización: \n",
    "-\tEl datafono de conecta a una red de procesamiento para la autorización \n",
    "-\tLa solicitud se envía al banco emisor de la tarjeta a través de una red de franquicias\n",
    "-\tEl banco emisor, verifica la validez, si existen los fondos suficientes disponibles\n",
    "\n",
    "4.\tAutorización o denegación: Si la transacción es aprobada, se envía una autorización al datafono, si es denegada se envía un código de error\n",
    "5.\tFinalización de la transacción: se imprime un recibo de la transacción \n",
    "6.\tLiquidación: Generalmente al finalizar la jornada el banco le paga al comercio el monto total del día, sacando las comisiones asociadas a la operación.\n",
    "\n",
    "**¿Qué son y cómo funcionan las franquicias?**\n",
    "\n",
    "- Las franquicias son una red de procesamiento de pagos, aunque no emiten tarjetas directamente a los consumidores en su lugar proporcionan la infraestructura para que se emitan las tarjetas y procesen transacciones\n",
    " \n",
    "**¿Como ganan estás franquicias?**\n",
    "\n",
    "-\tComisiones de transacción\n",
    "-\tTarifas de licencia a bancos e instituciones financieras \n",
    "-\tTarifas de servicio de valor agregado \n",
    "-\tIngresos por inversión \n",
    "-\tPartnerschips y colaboraciones \n",
    " \n",
    "\n",
    "**Principales bancos Colombianos (participación de mercado)** \n",
    "\n",
    "- \tBancolombia 26.5%\n",
    "- \tDavivienda 16.5%\n",
    "- \tBanco de Bogotá 11.8%\n",
    "- \tBBVA 10.6%\n",
    "- \tBanco de Occidente 6.2%\n",
    "\n",
    "**Objetivo del negocio**\n",
    "\n",
    "-\tAumentar el volumen de tarjetas de crédito en el mercado\n",
    "\n",
    "**Criterio de éxito**\n",
    "\n",
    "Al aumentar el volumen de tarjetas de crédito es aún más rentable si se consiguen personas con las siguientes características:\n",
    "-\tHistorial crediticio sólido: Un cliente de pagar sus deudas a tiempo es atractivo\n",
    "-\tEstabilidad financiera: Una situación laboral estable, ingresos regulares y relación saludable entre ingresos / gastos \n",
    "-\tUso regular de la tarjeta: Uso regular de la tarjeta, genera comisiones al banco \n",
    "-\tMantener un saldo, pero pagar el mínimo: es rentable una persona que además de usar la tarjeta de crédito regularmente, mantenga un saldo y pague el mínimo, le hace ganar al banco por el concepto de comisiones de mora, el banco gana por comisiones de compra y además reduce un poco el riesgo al pagar el valor mínimo de pago \n",
    "-\tNo supera su límite de crédito: es amigable una persona que maneje su riesgo de crédito y no supere su límite de crédito \n",
    "-\tHistorial de trabajo y residencia estable \n",
    "-\tBajo nivel de endeudamiento \n",
    "-\tAños de historial crediticio \n",
    "-\tDiversidad en tipos de crédito \n",
    "\n",
    "**Objetivo de la minería de datos:**\n",
    "-\tPoder identificar los diferentes tipos de clientes que posee la empresa, para hacer promociones eficientemente\n",
    "\n",
    "**Criterio de éxito de la minería de datos**\n",
    "-\tIdentificación clara de los grupos de clientes\n",
    "-\tIdentificación de hábitos de consumo \n",
    "-\tIdentificación de posibles usuarios riesgosos (personas que por sus hábitos puede ser mejor no ofrecerles promociones)\n"
   ]
  },
  {
   "cell_type": "markdown",
   "metadata": {},
   "source": [
    "\n",
    "## Data understanding\n",
    "\n",
    "\n",
    "### Data description report\n",
    "\n",
    "En la exploración de los datos nos encontramos con una base de datos que contiene registros de 47871 clientes de tarjetas de un banco que maneja tres franquicias: visa, mastercard y una independiente del banco. Las variables que nos encontramos en cada uno de estos registros nos indican pertenencia a un grupo (del cual no tenemos información), estadística sobre las compras del usuario, la franquicia que usa, uso nacional o internacional, hora del día, día de la semana y tipo de comercio donde más compras realizó, totalizando 25 variables. \n",
    "\n",
    "El formato predominante de los datos es el formato de porcentaje, pues es así como está determinado el uso de franquicias sobre el uso total de todas, el uso nacional o internacional con las franquicias y en el total, el uso en cada rango horario y el uso en cada día de la semana; por otro lado, los datos como el mínimo, máximo y promedio de compra se encuentra en términos nominales de dinero, presumiblemente pesos colombianos y el tipo de comercio preferido como una variable categórica.\n",
    "\n",
    "### Data exploration\n",
    "\n",
    "Para la exploración de datos decidimos separar los registros en función del sitio preferido de los clientes, pues graficar en función de cada registro resulta inviable por la cantidad que tenemos y además carente de significado para el análisis, en cambio, los sitios preferidos si nos dan una visión significativa para las demás variables que tenemos. Por lo tanto será así como exploremos los datos y los trabajemos más adelante, como forma de exploración hicimos previamente un gráfico de barras donde se representa el valor total de compras en cada comercio usando visas en territorio nacional:\n",
    "\n",
    "<img src='Imagen4.png'>\n",
    "\n",
    "Aquí vemos entonces que con visas en territorio nacional los clientes del banco usan mayormente sus tarjetas para comprar en SUPERMERCADOS Y TIENDAS EXPRESS, ALMACEN POR DEPARTAMENTO CON SUPERMERCADO, ALMACENES DE VESTUARIO Y ACCESORIO PARA LA FAMILIA, ALAMCENES DE CALZADO, etc.\n",
    "\n",
    "Este modo de ver la información nos resulta particularmente útil para poder sugerir al banco que tipo de promociones lanzar, pues podremos determinar que combinación de variables resultará más efectiva por la cantidad de clientes interesados en aprovecharlas gracias a esta observación y análisis de su comportamiento.\n",
    "\n",
    "### Data quality\n",
    "\n",
    "No encontramos errores para corregir en la base de datos en sí, sin embargo hay varibles que no serán tomadas en cuenta para el desarrollo del análisis de los datos por su carencia de significado para el mismo, tal como el grupo del cliente, el mínimo, máximo y desviación estándar de las compras, porcentaje nacional e internacional total, debido a que ya tenemos la misma información con las franquicias y de los sitios de consumo excluiremos \"SIN NOMBRE\"."
   ]
  },
  {
   "cell_type": "markdown",
   "metadata": {},
   "source": [
    "## Data preparation\n",
    "\n",
    "Primero, importamos la lobrerías que nos serán útiles para el desarrollo del proyecto:"
   ]
  },
  {
   "cell_type": "code",
   "execution_count": 1,
   "metadata": {},
   "outputs": [],
   "source": [
    "import pandas as pd\n",
    "import hvplot.pandas\n",
    "from path import Path\n",
    "from sklearn.cluster import KMeans\n",
    "from sklearn.decomposition import PCA\n",
    "from sklearn.preprocessing import StandardScaler\n",
    "import warnings\n",
    "warnings.filterwarnings('ignore')"
   ]
  },
  {
   "cell_type": "markdown",
   "metadata": {},
   "source": [
    "Importamos los datos contenidos en el documento de excel infobanca.xlsx"
   ]
  },
  {
   "cell_type": "code",
   "execution_count": 31,
   "metadata": {
    "scrolled": true
   },
   "outputs": [],
   "source": [
    "#infobanca= pd.read_excel('infobanca.xlsx')\n",
    "infobanca= pd.read_excel(\"C:\\\\Users\\\\migue\\\\Documents\\\\GitHub\\\\Fintech_and_Machine_Learning\\\\Caso1\\\\infobanca.xlsx\")\n",
    "infobanca_original=infobanca"
   ]
  },
  {
   "cell_type": "markdown",
   "metadata": {},
   "source": [
    "### Data construction\n",
    "\n",
    "Ahora creamos columna de total de ventas multiplicando el promedio por transacción por el número de transacciones con el fin de tener un número total aproximado del consumo de cada uno de los usuarios:"
   ]
  },
  {
   "cell_type": "code",
   "execution_count": 32,
   "metadata": {},
   "outputs": [],
   "source": [
    "infobanca['Total_ventas']=infobanca['promedio_por_transaccion']*infobanca['Numero_de_transacciones']"
   ]
  },
  {
   "cell_type": "markdown",
   "metadata": {},
   "source": [
    "### Data cleaning\n",
    "\n",
    "Eliminamos las columnas mencionadas previamente en el reporte de calidad de los datos y además eliminamos la columna del promedio por transacción, pues al tener el total consumido por cada usuario, no lo necesitamos de ahora en adelante. Eliminamos también los registros de usuarios cuyo sitio preferido haya sido \"SIN NOMBRE\":"
   ]
  },
  {
   "cell_type": "code",
   "execution_count": 33,
   "metadata": {},
   "outputs": [],
   "source": [
    "coldt=['CLIENTE','grupo_de_cliente','Numero_de_transacciones','promedio_por_transaccion','transaccion_minima','transaccion_maxima','desviacion_estandar_por_transaccion','porcentaje_nacional_total','porcentaje_internacional_total']\n",
    "infobanca= infobanca.drop(coldt, axis=1)\n",
    "infobanca= infobanca[infobanca['Sitio_consumo_masfrecuente'] !='SIN NOMBRE']\n",
    "infobanca.head(5)"
   ]
  },
  {
   "cell_type": "markdown",
   "metadata": {},
   "source": [
    "### Data formatting\n",
    "\n",
    "Multiplicamos total venta por los porcentajes del DF con el fin de deshacernos de los porcentajes y en vez de eso tener valores netos en pesos colombianos de las ventas hechas con cada franquicia, hora del día, etc."
   ]
  },
  {
   "cell_type": "code",
   "execution_count": 34,
   "metadata": {},
   "outputs": [],
   "source": [
    "colum = list(infobanca.columns)\n",
    "colum.remove('Sitio_consumo_masfrecuente')\n",
    "colum.remove('Total_ventas')\n",
    "for i in colum:\n",
    "  infobanca[i] = infobanca[i]*infobanca['Total_ventas']\n",
    "infobanca.head(5)"
   ]
  },
  {
   "cell_type": "markdown",
   "metadata": {},
   "source": [
    "Ahora cambiamos la forma de la base de datos, pues en vez de tener un cliente en cada fila, tendremos cada uno de los sitios y las variables que quedarán registradas serán las sumatorias del total de dinero invertido en cada sitio bajo cada criterio, tal como las compras con visa nacional o internacional, la hora del día de la transacción, etc.\n",
    "\n",
    "Esta será la base de datos con las que iniciemos la preparación de los datos para la aplicación del metodo de clustering K-means."
   ]
  },
  {
   "cell_type": "code",
   "execution_count": 35,
   "metadata": {},
   "outputs": [],
   "source": [
    "columnas=list(infobanca.columns.values)\n",
    "columnas.remove('Total_ventas')\n",
    "suma_por_sitio=infobanca.groupby('Sitio_consumo_masfrecuente')[columnas].sum()\n",
    "infobanca=suma_por_sitio\n",
    "\n",
    "infobanca.head(5)"
   ]
  },
  {
   "cell_type": "markdown",
   "metadata": {},
   "source": [
    "Para un mejor análisis y lectura de los datos vamos a simplificar la información dejándola en **MILLONES**"
   ]
  },
  {
   "cell_type": "code",
   "execution_count": 36,
   "metadata": {},
   "outputs": [],
   "source": [
    "colum= infobanca.columns\n",
    "for i in colum:\n",
    "    infobanca[i]=infobanca[i]/1000000"
   ]
  },
  {
   "cell_type": "code",
   "execution_count": 37,
   "metadata": {},
   "outputs": [],
   "source": [
    "infobanca=round(infobanca,2)"
   ]
  },
  {
   "cell_type": "markdown",
   "metadata": {},
   "source": [
    "### Escalar datos\n",
    "\n",
    "Escalamos la base de datos con standard sca `StandardScaler` para normalizar los datos y creamos el índice `Sitio_consumo_masfrecuente`"
   ]
  },
  {
   "cell_type": "code",
   "execution_count": 38,
   "metadata": {},
   "outputs": [],
   "source": [
    "infobanca_escalado=StandardScaler().fit_transform(infobanca)\n",
    "\n",
    "# DataFrame con los datos escalados\n",
    "df_infobanca_scaled = pd.DataFrame(\n",
    "    infobanca_escalado,\n",
    "    columns=infobanca.columns\n",
    ")\n",
    "\n",
    "# Copiamos los nombres de los sitios\n",
    "df_infobanca_scaled[\"Sitio_consumo_masfrecuente\"] = infobanca.index\n",
    "\n",
    "# Establecer la columna Sitio_consumo_masfrecuente como índice\n",
    "df_infobanca_scaled= df_infobanca_scaled.set_index(\"Sitio_consumo_masfrecuente\")\n",
    "\n",
    "df_infobanca_scaled.head(5)"
   ]
  },
  {
   "cell_type": "markdown",
   "metadata": {},
   "source": [
    "# Modelling"
   ]
  },
  {
   "cell_type": "markdown",
   "metadata": {},
   "source": [
    "## Select Modelling Techniques"
   ]
  },
  {
   "cell_type": "markdown",
   "metadata": {},
   "source": [
    "Recordando nuestro objeto de estudio, buscamos a través de grupos poblacionales agrupados por sitio donde más frecuentan sus compras, presentar posibles promociones que benefician a nuestros clientes, a través del medio de pago que emplean en dichos sitios. \n",
    "\n",
    "Ahora bien, dado que necesitamos sugerir las promociones para los individuos, estas estarán representadas por sitios, recordando que la base de datos fue ajustada de esa manera anteriormente. Teniendo en cuenta que las promociones se harán de acuerdo con las variables que tenemos como tipos de tarjetas, franjas horarias o dias de la semana, la metodología que vamos a emplear será K-Means, en donde el algoritmo nos permitirá identificar los puntos que más tengan similitud. \n",
    "\n",
    "Sabiendo que esta metodología necesita un K optimo donde minimiza la varianza entre puntos y la maximiza entre centroides, agrupandolos de acuerdo a dicho K, partimos de los datos originales para hallar este K, primero tomamos números del 1 al 15, con los que trazaremos los valores de inercia y poder hallar el k óptimo para los clusters.\n"
   ]
  },
  {
   "cell_type": "markdown",
   "metadata": {},
   "source": [
    "## Build Model"
   ]
  },
  {
   "cell_type": "markdown",
   "metadata": {},
   "source": [
    "El modelo que vamos a utilizar será K-Means, ahora bien, como lo mencionamos anteriormente, este algoritmo tiene dos parámetros importantes, el primero el K que vamos a emplear, el cual será seleccionado bajo el método de codo, el cual utiliza la distancia media de las observaciones a su centroide. En otras palabras, busca fijar las distancias intra-cluster, en donde a medida que el K es mayor la varianza tiende a disminuir, lo que significaría que los clústeres son más compactos."
   ]
  },
  {
   "cell_type": "markdown",
   "metadata": {},
   "source": [
    "### Método de codo"
   ]
  },
  {
   "cell_type": "code",
   "execution_count": 39,
   "metadata": {},
   "outputs": [],
   "source": [
    "k = list(range(1,15))\n",
    "k"
   ]
  },
  {
   "cell_type": "code",
   "execution_count": 40,
   "metadata": {},
   "outputs": [],
   "source": [
    "# Crear una lista vacía para almacenar los valores de inertia\n",
    "inertia = []"
   ]
  },
  {
   "cell_type": "code",
   "execution_count": 41,
   "metadata": {},
   "outputs": [],
   "source": [
    "# Bucle for para calcular la inercia de cada K\n",
    "for i in k:\n",
    "    model = KMeans(n_clusters = i, random_state = 0)\n",
    "    model.fit(df_infobanca_scaled)\n",
    "    inertia.append(model.inertia_)\n",
    "\n",
    "inertia"
   ]
  },
  {
   "cell_type": "code",
   "execution_count": 42,
   "metadata": {},
   "outputs": [],
   "source": [
    "# Crear un diccionario con los datos para trazar la curva del Codo\n",
    "elbow_data_original = {\n",
    "    'k': k,\n",
    "    'inertia': inertia\n",
    "}\n",
    "\n",
    "# Crea un DataFrame con los datos para trazar la curva del Codo\n",
    "df_elbow_data_original = pd.DataFrame(elbow_data_original)\n",
    "df_elbow_data_original"
   ]
  },
  {
   "cell_type": "code",
   "execution_count": 43,
   "metadata": {},
   "outputs": [],
   "source": [
    "# Observamos los valores de inercia en un gráfico de línea para encontrar el K óptimo\n",
    "\n",
    "elbow_plot_original = df_elbow_data_original.hvplot.line(\n",
    "    title = 'Elbow Plot: Original Data',\n",
    "    x = 'k',\n",
    "    xlabel = 'k',\n",
    "    xticks = k,\n",
    "    y = 'inertia',\n",
    "    ylabel = 'Inertia'\n",
    ")\n",
    "\n",
    "elbow_plot_original"
   ]
  },
  {
   "cell_type": "markdown",
   "metadata": {},
   "source": [
    "A partir del gráfico, el mejor valor de K parece ser el K=6, el cual será el parametro a utilizar como número de clusteres que se formaran."
   ]
  },
  {
   "cell_type": "markdown",
   "metadata": {},
   "source": [
    "### Clusters ~ K-Means\n",
    "\n",
    "Ahora armaremos clusters de los sitios de consumo más frecuentes usando el K=6 que encontramos en el paso anterior."
   ]
  },
  {
   "cell_type": "code",
   "execution_count": 44,
   "metadata": {},
   "outputs": [],
   "source": [
    "# Inicializar el modelo K-Means usando el mejor valor para k\n",
    "model = KMeans(n_clusters=6)\n",
    "model.fit(df_infobanca_scaled) # Ajuste del modelo"
   ]
  },
  {
   "cell_type": "code",
   "execution_count": 45,
   "metadata": {},
   "outputs": [],
   "source": [
    "# Prediga los grupos para agrupar los sitios de consumo usando los datos escalados\n",
    "clusters_original = model.predict(df_infobanca_scaled)\n",
    "\n",
    "# Ver la matriz resultante de valores de clúster.\n",
    "clusters_original"
   ]
  },
  {
   "cell_type": "code",
   "execution_count": 46,
   "metadata": {},
   "outputs": [],
   "source": [
    "# Crear una copia del DataFrame\n",
    "df_clusters_original = infobanca.copy()"
   ]
  },
  {
   "cell_type": "markdown",
   "metadata": {},
   "source": [
    "Una vez tenemos los Clusteres que vamos a asignara a las observaciones (sitios), vamos a pegar ese vector columna con dicha información con nuestra base de datos original."
   ]
  },
  {
   "cell_type": "code",
   "execution_count": 47,
   "metadata": {},
   "outputs": [],
   "source": [
    "# Agregue una nueva columna al DataFrame con los grupos predichos\n",
    "df_clusters_original['Cluster'] = clusters_original\n",
    "\n",
    "# Mostrar datos de muestra\n",
    "df_clusters_original['Cluster']"
   ]
  },
  {
   "cell_type": "code",
   "execution_count": 48,
   "metadata": {},
   "outputs": [],
   "source": [
    "cluster_plot_original = df_clusters_original.hvplot.scatter(\n",
    "    title='Cluster Plot: Original',\n",
    "    x = 'porcentaje_manana',\n",
    "    xlabel = 'porcentaje_manana',\n",
    "    y = 'porcSABADO',\n",
    "    ylabel = 'porcSABADO',\n",
    "    by = 'Cluster',\n",
    "    hover_cols=[\"Sitio_consumo_masfrecuente\"]\n",
    ")\n",
    "\n",
    "cluster_plot_original"
   ]
  },
  {
   "cell_type": "markdown",
   "metadata": {},
   "source": [
    "### Optimizar clústeres con análisis de componentes principales"
   ]
  },
  {
   "cell_type": "markdown",
   "metadata": {},
   "source": [
    "Otra metodología que se puede utilizar con el fin de contrastar los resultados del modelamiento anterior es la optimización de los clústeres, pero bajo un análisis de componentes principales, antes de correr el modelo. Este método lo que nos permitirá será reducir las variables que tengamos a un número definido a discreción del investigador, en este caso dado que tenemos 3 categorías en las que podemos agrupar toda la información (Tipo de tarjeta por franquicias, franja horaria, Noche o Día y dias de la semana) el número de componentes principales será 3."
   ]
  },
  {
   "cell_type": "code",
   "execution_count": 49,
   "metadata": {},
   "outputs": [],
   "source": [
    "pca_model = PCA(n_components=3) #Creación del algoritmo\n",
    "pca_data = pca_model.fit_transform(df_infobanca_scaled) # Reducción a tres CP\n",
    "pca_data[:5]"
   ]
  },
  {
   "cell_type": "markdown",
   "metadata": {},
   "source": [
    "Dado que ya tenemos los datos reducidos a tres componentes principales vamos a crear un DataFrame que los contenga. "
   ]
  },
  {
   "cell_type": "code",
   "execution_count": 50,
   "metadata": {},
   "outputs": [],
   "source": [
    "df_pca_data = pd.DataFrame(pca_data)\n",
    "df_pca_data[\"Sitio_consumo_masfrecuente\"] = infobanca.index\n",
    "df_pca_data = df_pca_data.set_index('Sitio_consumo_masfrecuente')\n",
    "\n",
    "# Mostrar datos de muestra\n",
    "df_pca_data.head(5)"
   ]
  },
  {
   "cell_type": "markdown",
   "metadata": {},
   "source": [
    "Una vez tenemos los datos bajo la metodologia ACP (Analisis de componentes principales), vamos a utilizar estos datos para calcular el K óptimo que se requiere a la ahora de correr nuestro modelo K-Means"
   ]
  },
  {
   "cell_type": "code",
   "execution_count": 51,
   "metadata": {},
   "outputs": [],
   "source": [
    "k"
   ]
  },
  {
   "cell_type": "code",
   "execution_count": 52,
   "metadata": {},
   "outputs": [],
   "source": [
    "inertia2 = []\n",
    "for i in k:\n",
    "    kmeans_model_pca = KMeans(n_clusters=i, random_state=1)\n",
    "    kmeans_model_pca.fit(df_pca_data)\n",
    "    inertia2.append(kmeans_model_pca.inertia_)\n",
    "\n",
    "inertia2"
   ]
  },
  {
   "cell_type": "code",
   "execution_count": 53,
   "metadata": {},
   "outputs": [],
   "source": [
    "elbow_data_pca = {\n",
    "    'k': k,\n",
    "    'inertia':inertia2\n",
    "}\n",
    "df_elbow_data_pca = pd.DataFrame(elbow_data_pca)\n",
    "df_elbow_data_pca"
   ]
  },
  {
   "cell_type": "code",
   "execution_count": 54,
   "metadata": {},
   "outputs": [],
   "source": [
    "elbow_plot_pca = df_elbow_data_pca.hvplot.line(\n",
    "    title='Elbow Plot: PCA',\n",
    "    x = 'k',\n",
    "    xticks = k,\n",
    "    xlabel = 'k',\n",
    "    y = 'inertia',\n",
    "    ylabel = 'inertia'\n",
    ")\n",
    "\n",
    "elbow_plot_pca"
   ]
  },
  {
   "cell_type": "markdown",
   "metadata": {},
   "source": [
    "Teniendo en cuenta la gráfica de codo utilizando los datos calculados por componentes principales, notamos que tiene una similitud a la gráfica con los datos originales, por lo que seguiremos utilizando el mismo K, que en este caso será K = 6. "
   ]
  },
  {
   "cell_type": "code",
   "execution_count": 26,
   "metadata": {},
   "outputs": [],
   "source": [
    "kmeans_model_pca = KMeans(n_clusters=6)\n",
    "kmeans_model_pca.fit(df_pca_data)"
   ]
  },
  {
   "cell_type": "code",
   "execution_count": 27,
   "metadata": {},
   "outputs": [],
   "source": [
    "clusters_pca = kmeans_model_pca.predict(df_pca_data)\n",
    "clusters_pca"
   ]
  },
  {
   "cell_type": "code",
   "execution_count": 28,
   "metadata": {},
   "outputs": [],
   "source": [
    "df_clusters_pca = infobanca.copy() #DataFrame PCA\n",
    "df_clusters_pca['Cluster'] = clusters_pca\n",
    "df_clusters_pca.head(5)"
   ]
  },
  {
   "cell_type": "code",
   "execution_count": 29,
   "metadata": {},
   "outputs": [],
   "source": [
    "cluster_plot_original2 = df_clusters_pca.hvplot.scatter(\n",
    "    title='Cluster Plot: Original',\n",
    "    x = 'porcentaje_mastercard_nacional',\n",
    "    xlabel = 'porcentaje_mastercard_nacional',\n",
    "    y = 'porcDOMINGO',\n",
    "    ylabel = 'porcDOMINGO',\n",
    "    by = 'Cluster',\n",
    "    hover_cols=[\"Sitio_consumo_masfrecuente\"]\n",
    ")\n",
    "\n",
    "cluster_plot_original2"
   ]
  },
  {
   "cell_type": "code",
   "execution_count": 30,
   "metadata": {},
   "outputs": [],
   "source": [
    "cluster_plot_original2 = df_clusters_pca.hvplot.scatter(\n",
    "    title='Cluster Plot: Original',\n",
    "    x = 'porcentaje_manana',\n",
    "    xlabel = 'porcentaje_manana',\n",
    "    y = 'porcSABADO',\n",
    "    ylabel = 'porcSABADO',\n",
    "    by = 'Cluster',\n",
    "    hover_cols=[\"Sitio_consumo_masfrecuente\"]\n",
    ")\n",
    "\n",
    "cluster_plot_original2"
   ]
  },
  {
   "cell_type": "markdown",
   "metadata": {},
   "source": [
    "# Evaluación "
   ]
  },
  {
   "cell_type": "code",
   "execution_count": null,
   "metadata": {},
   "outputs": [],
   "source": []
  }
 ],
 "metadata": {
  "kernelspec": {
   "display_name": "Python 3 (ipykernel)",
   "language": "python",
   "name": "python3"
  },
  "language_info": {
   "codemirror_mode": {
    "name": "ipython",
    "version": 3
   },
   "file_extension": ".py",
   "mimetype": "text/x-python",
   "name": "python",
   "nbconvert_exporter": "python",
   "pygments_lexer": "ipython3",
   "version": "3.9.7"
  }
 },
 "nbformat": 4,
 "nbformat_minor": 2
}
