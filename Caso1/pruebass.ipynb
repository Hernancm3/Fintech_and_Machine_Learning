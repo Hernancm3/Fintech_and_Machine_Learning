{
 "cells": [
  {
   "cell_type": "code",
   "execution_count": 3,
   "metadata": {},
   "outputs": [
    {
     "name": "stdout",
     "output_type": "stream",
     "text": [
      "DataFrame original:\n",
      "   Género  Valor  Valor2\n",
      "0  Hombre     10      10\n",
      "1   Mujer     20      20\n",
      "2  Hombre     15      15\n",
      "3   Mujer     25      25\n",
      "4  Hombre     12      12\n"
     ]
    }
   ],
   "source": [
    "#import pandas as pd\n",
    "\n",
    "# Crear un DataFrame de ejemplo\n",
    "data = {'Género': ['Hombre', 'Mujer', 'Hombre', 'Mujer', 'Hombre'],\n",
    "        'Valor': [10, 20, 15, 25, 12],\n",
    "        'Valor2': [10, 20, 15, 25, 12]}\n",
    "\n",
    "df = pd.DataFrame(data)\n",
    "\n",
    "# Mostrar el DataFrame original\n",
    "print(\"DataFrame original:\")\n",
    "print(df)"
   ]
  },
  {
   "cell_type": "code",
   "execution_count": 4,
   "metadata": {},
   "outputs": [
    {
     "name": "stdout",
     "output_type": "stream",
     "text": [
      "\n",
      "Suma total por género:\n",
      "        Valor  Valor2\n",
      "Género               \n",
      "Hombre     37      37\n",
      "Mujer      45      45\n"
     ]
    },
    {
     "name": "stderr",
     "output_type": "stream",
     "text": [
      "C:\\Users\\program\\AppData\\Local\\Temp\\ipykernel_7048\\1626956161.py:2: FutureWarning: Indexing with multiple keys (implicitly converted to a tuple of keys) will be deprecated, use a list instead.\n",
      "  suma_por_genero = df.groupby('Género')['Valor','Valor2'].sum()\n"
     ]
    }
   ],
   "source": [
    "# Calcular la suma total de los valores por género\n",
    "suma_por_genero = df.groupby('Género')['Valor','Valor2'].sum()\n",
    "\n",
    "# Mostrar el resultado\n",
    "print(\"\\nSuma total por género:\")\n",
    "print(suma_por_genero)"
   ]
  }
 ],
 "metadata": {
  "kernelspec": {
   "display_name": "Python 3",
   "language": "python",
   "name": "python3"
  },
  "language_info": {
   "codemirror_mode": {
    "name": "ipython",
    "version": 3
   },
   "file_extension": ".py",
   "mimetype": "text/x-python",
   "name": "python",
   "nbconvert_exporter": "python",
   "pygments_lexer": "ipython3",
   "version": "3.11.0"
  },
  "orig_nbformat": 4
 },
 "nbformat": 4,
 "nbformat_minor": 2
}
