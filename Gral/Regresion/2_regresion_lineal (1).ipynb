{
 "cells": [
  {
   "cell_type": "markdown",
   "metadata": {
    "id": "Ea9CPlvttQda"
   },
   "source": [
    "# Regresión\n",
    "\n",
    "Ejemplo de regresión lineal<br>"
   ]
  },
  {
   "cell_type": "code",
   "execution_count": 1,
   "metadata": {
    "executionInfo": {
     "elapsed": 2197,
     "status": "ok",
     "timestamp": 1603750497395,
     "user": {
      "displayName": "Hernán Contigiani",
      "photoUrl": "https://lh3.googleusercontent.com/a-/AOh14Ggvg04lTitIUU72BS6D299tXlZG8qalV594KkKRfg=s64",
      "userId": "01142101934719343059"
     },
     "user_tz": 180
    },
    "id": "xJN8ND5ctQdc"
   },
   "outputs": [],
   "source": [
    "import os\n",
    "import platform\n",
    "\n",
    "import numpy as np\n",
    "import matplotlib.pyplot as plt\n",
    "import seaborn as sns\n",
    "import pandas as pd"
   ]
  },
  {
   "cell_type": "markdown",
   "metadata": {
    "id": "Q5I6l8ZCFaZ8"
   },
   "source": [
    "# Procesar datos"
   ]
  },
  {
   "cell_type": "code",
   "execution_count": 9,
   "metadata": {},
   "outputs": [],
   "source": [
    "df = pd.read_csv(\"propiedades.csv\")"
   ]
  },
  {
   "cell_type": "code",
   "execution_count": 10,
   "metadata": {
    "colab": {
     "base_uri": "https://localhost:8080/",
     "height": 359
    },
    "executionInfo": {
     "elapsed": 3737,
     "status": "ok",
     "timestamp": 1603750498965,
     "user": {
      "displayName": "Hernán Contigiani",
      "photoUrl": "https://lh3.googleusercontent.com/a-/AOh14Ggvg04lTitIUU72BS6D299tXlZG8qalV594KkKRfg=s64",
      "userId": "01142101934719343059"
     },
     "user_tz": 180
    },
    "id": "RQgSiWHXFWQD",
    "outputId": "90f4e5cc-9a8a-4cd5-d1b6-340ce58059b2"
   },
   "outputs": [
    {
     "data": {
      "text/html": [
       "<div>\n",
       "<style scoped>\n",
       "    .dataframe tbody tr th:only-of-type {\n",
       "        vertical-align: middle;\n",
       "    }\n",
       "\n",
       "    .dataframe tbody tr th {\n",
       "        vertical-align: top;\n",
       "    }\n",
       "\n",
       "    .dataframe thead th {\n",
       "        text-align: right;\n",
       "    }\n",
       "</style>\n",
       "<table border=\"1\" class=\"dataframe\">\n",
       "  <thead>\n",
       "    <tr style=\"text-align: right;\">\n",
       "      <th></th>\n",
       "      <th>Unnamed: 0</th>\n",
       "      <th>Unnamed: 0.1</th>\n",
       "      <th>latitud</th>\n",
       "      <th>longitud</th>\n",
       "      <th>precio</th>\n",
       "      <th>m2</th>\n",
       "      <th>ambientes</th>\n",
       "    </tr>\n",
       "  </thead>\n",
       "  <tbody>\n",
       "    <tr>\n",
       "      <th>count</th>\n",
       "      <td>1050.000000</td>\n",
       "      <td>1050.000000</td>\n",
       "      <td>1050.000000</td>\n",
       "      <td>1050.000000</td>\n",
       "      <td>1050.000000</td>\n",
       "      <td>1048.000000</td>\n",
       "      <td>1044.000000</td>\n",
       "    </tr>\n",
       "    <tr>\n",
       "      <th>mean</th>\n",
       "      <td>524.500000</td>\n",
       "      <td>524.500000</td>\n",
       "      <td>-34.526132</td>\n",
       "      <td>-58.423896</td>\n",
       "      <td>35737.122857</td>\n",
       "      <td>62.232777</td>\n",
       "      <td>2.143678</td>\n",
       "    </tr>\n",
       "    <tr>\n",
       "      <th>std</th>\n",
       "      <td>303.253195</td>\n",
       "      <td>303.253195</td>\n",
       "      <td>2.549434</td>\n",
       "      <td>2.319076</td>\n",
       "      <td>49897.697379</td>\n",
       "      <td>56.281333</td>\n",
       "      <td>1.339870</td>\n",
       "    </tr>\n",
       "    <tr>\n",
       "      <th>min</th>\n",
       "      <td>0.000000</td>\n",
       "      <td>0.000000</td>\n",
       "      <td>-38.505290</td>\n",
       "      <td>-120.740135</td>\n",
       "      <td>27.000000</td>\n",
       "      <td>0.000000</td>\n",
       "      <td>0.000000</td>\n",
       "    </tr>\n",
       "    <tr>\n",
       "      <th>25%</th>\n",
       "      <td>262.250000</td>\n",
       "      <td>262.250000</td>\n",
       "      <td>-34.608908</td>\n",
       "      <td>-58.448631</td>\n",
       "      <td>16800.000000</td>\n",
       "      <td>35.000000</td>\n",
       "      <td>1.000000</td>\n",
       "    </tr>\n",
       "    <tr>\n",
       "      <th>50%</th>\n",
       "      <td>524.500000</td>\n",
       "      <td>524.500000</td>\n",
       "      <td>-34.594705</td>\n",
       "      <td>-58.423578</td>\n",
       "      <td>25000.000000</td>\n",
       "      <td>45.000000</td>\n",
       "      <td>2.000000</td>\n",
       "    </tr>\n",
       "    <tr>\n",
       "      <th>75%</th>\n",
       "      <td>786.750000</td>\n",
       "      <td>786.750000</td>\n",
       "      <td>-34.578902</td>\n",
       "      <td>-58.395060</td>\n",
       "      <td>39000.000000</td>\n",
       "      <td>70.000000</td>\n",
       "      <td>3.000000</td>\n",
       "    </tr>\n",
       "    <tr>\n",
       "      <th>max</th>\n",
       "      <td>1049.000000</td>\n",
       "      <td>1049.000000</td>\n",
       "      <td>47.751076</td>\n",
       "      <td>-34.588875</td>\n",
       "      <td>820000.000000</td>\n",
       "      <td>700.000000</td>\n",
       "      <td>18.000000</td>\n",
       "    </tr>\n",
       "    <tr>\n",
       "      <th>Nan</th>\n",
       "      <td>0.000000</td>\n",
       "      <td>0.000000</td>\n",
       "      <td>0.000000</td>\n",
       "      <td>0.000000</td>\n",
       "      <td>0.000000</td>\n",
       "      <td>2.000000</td>\n",
       "      <td>6.000000</td>\n",
       "    </tr>\n",
       "    <tr>\n",
       "      <th>%Nan</th>\n",
       "      <td>0.000000</td>\n",
       "      <td>0.000000</td>\n",
       "      <td>0.000000</td>\n",
       "      <td>0.000000</td>\n",
       "      <td>0.000000</td>\n",
       "      <td>0.190476</td>\n",
       "      <td>0.571429</td>\n",
       "    </tr>\n",
       "  </tbody>\n",
       "</table>\n",
       "</div>"
      ],
      "text/plain": [
       "        Unnamed: 0  Unnamed: 0.1      latitud     longitud         precio  \\\n",
       "count  1050.000000   1050.000000  1050.000000  1050.000000    1050.000000   \n",
       "mean    524.500000    524.500000   -34.526132   -58.423896   35737.122857   \n",
       "std     303.253195    303.253195     2.549434     2.319076   49897.697379   \n",
       "min       0.000000      0.000000   -38.505290  -120.740135      27.000000   \n",
       "25%     262.250000    262.250000   -34.608908   -58.448631   16800.000000   \n",
       "50%     524.500000    524.500000   -34.594705   -58.423578   25000.000000   \n",
       "75%     786.750000    786.750000   -34.578902   -58.395060   39000.000000   \n",
       "max    1049.000000   1049.000000    47.751076   -34.588875  820000.000000   \n",
       "Nan       0.000000      0.000000     0.000000     0.000000       0.000000   \n",
       "%Nan      0.000000      0.000000     0.000000     0.000000       0.000000   \n",
       "\n",
       "                m2    ambientes  \n",
       "count  1048.000000  1044.000000  \n",
       "mean     62.232777     2.143678  \n",
       "std      56.281333     1.339870  \n",
       "min       0.000000     0.000000  \n",
       "25%      35.000000     1.000000  \n",
       "50%      45.000000     2.000000  \n",
       "75%      70.000000     3.000000  \n",
       "max     700.000000    18.000000  \n",
       "Nan       2.000000     6.000000  \n",
       "%Nan      0.190476     0.571429  "
      ]
     },
     "execution_count": 10,
     "metadata": {},
     "output_type": "execute_result"
    }
   ],
   "source": [
    "des = df.describe()\n",
    "des.loc['Nan'] = df.isna().sum()\n",
    "des.loc['%Nan'] = (df.isna().mean())*100\n",
    "des"
   ]
  },
  {
   "cell_type": "code",
   "execution_count": 11,
   "metadata": {
    "colab": {
     "base_uri": "https://localhost:8080/",
     "height": 204
    },
    "executionInfo": {
     "elapsed": 3729,
     "status": "ok",
     "timestamp": 1603750498966,
     "user": {
      "displayName": "Hernán Contigiani",
      "photoUrl": "https://lh3.googleusercontent.com/a-/AOh14Ggvg04lTitIUU72BS6D299tXlZG8qalV594KkKRfg=s64",
      "userId": "01142101934719343059"
     },
     "user_tz": 180
    },
    "id": "yVdxZvGKFvM9",
    "outputId": "16315793-099a-4559-fd3f-f6877e3cb571"
   },
   "outputs": [
    {
     "data": {
      "text/html": [
       "<div>\n",
       "<style scoped>\n",
       "    .dataframe tbody tr th:only-of-type {\n",
       "        vertical-align: middle;\n",
       "    }\n",
       "\n",
       "    .dataframe tbody tr th {\n",
       "        vertical-align: top;\n",
       "    }\n",
       "\n",
       "    .dataframe thead th {\n",
       "        text-align: right;\n",
       "    }\n",
       "</style>\n",
       "<table border=\"1\" class=\"dataframe\">\n",
       "  <thead>\n",
       "    <tr style=\"text-align: right;\">\n",
       "      <th></th>\n",
       "      <th>Unnamed: 0</th>\n",
       "      <th>Unnamed: 0.1</th>\n",
       "      <th>latitud</th>\n",
       "      <th>longitud</th>\n",
       "      <th>titulo</th>\n",
       "      <th>tipo_propiedad</th>\n",
       "      <th>precio</th>\n",
       "      <th>moneda</th>\n",
       "      <th>m2</th>\n",
       "      <th>ambientes</th>\n",
       "    </tr>\n",
       "  </thead>\n",
       "  <tbody>\n",
       "    <tr>\n",
       "      <th>0</th>\n",
       "      <td>0</td>\n",
       "      <td>0</td>\n",
       "      <td>-34.611270</td>\n",
       "      <td>-58.36378</td>\n",
       "      <td>Departamento-alquiler - Puerto Madero-situar</td>\n",
       "      <td>Apartamento</td>\n",
       "      <td>2900.0</td>\n",
       "      <td>USD</td>\n",
       "      <td>192.0</td>\n",
       "      <td>4.0</td>\n",
       "    </tr>\n",
       "    <tr>\n",
       "      <th>1</th>\n",
       "      <td>1</td>\n",
       "      <td>1</td>\n",
       "      <td>-34.589848</td>\n",
       "      <td>-58.50942</td>\n",
       "      <td>Oportunidad! Monoambiente A Estrenar - Alquile...</td>\n",
       "      <td>Apartamento</td>\n",
       "      <td>50.0</td>\n",
       "      <td>USD</td>\n",
       "      <td>38.0</td>\n",
       "      <td>1.0</td>\n",
       "    </tr>\n",
       "    <tr>\n",
       "      <th>2</th>\n",
       "      <td>2</td>\n",
       "      <td>2</td>\n",
       "      <td>-34.605970</td>\n",
       "      <td>-34.60597</td>\n",
       "      <td>Alquiler Temporario De Lujo 4/p Hospital Itali...</td>\n",
       "      <td>Apartamento</td>\n",
       "      <td>1866.0</td>\n",
       "      <td>COP</td>\n",
       "      <td>57.0</td>\n",
       "      <td>1.0</td>\n",
       "    </tr>\n",
       "    <tr>\n",
       "      <th>3</th>\n",
       "      <td>3</td>\n",
       "      <td>3</td>\n",
       "      <td>-34.590656</td>\n",
       "      <td>-58.44873</td>\n",
       "      <td>Excelente Departamento 3 Ambientes (2 Cuartos)...</td>\n",
       "      <td>Apartamento</td>\n",
       "      <td>30000.0</td>\n",
       "      <td>COP</td>\n",
       "      <td>60.0</td>\n",
       "      <td>3.0</td>\n",
       "    </tr>\n",
       "    <tr>\n",
       "      <th>4</th>\n",
       "      <td>4</td>\n",
       "      <td>4</td>\n",
       "      <td>-34.624084</td>\n",
       "      <td>-58.38989</td>\n",
       "      <td>Departamentos Alquil Temporario Centro Cap Fed...</td>\n",
       "      <td>Apartamento</td>\n",
       "      <td>2100.0</td>\n",
       "      <td>COP</td>\n",
       "      <td>64.0</td>\n",
       "      <td>3.0</td>\n",
       "    </tr>\n",
       "  </tbody>\n",
       "</table>\n",
       "</div>"
      ],
      "text/plain": [
       "   Unnamed: 0  Unnamed: 0.1    latitud  longitud  \\\n",
       "0           0             0 -34.611270 -58.36378   \n",
       "1           1             1 -34.589848 -58.50942   \n",
       "2           2             2 -34.605970 -34.60597   \n",
       "3           3             3 -34.590656 -58.44873   \n",
       "4           4             4 -34.624084 -58.38989   \n",
       "\n",
       "                                              titulo tipo_propiedad   precio  \\\n",
       "0       Departamento-alquiler - Puerto Madero-situar    Apartamento   2900.0   \n",
       "1  Oportunidad! Monoambiente A Estrenar - Alquile...    Apartamento     50.0   \n",
       "2  Alquiler Temporario De Lujo 4/p Hospital Itali...    Apartamento   1866.0   \n",
       "3  Excelente Departamento 3 Ambientes (2 Cuartos)...    Apartamento  30000.0   \n",
       "4  Departamentos Alquil Temporario Centro Cap Fed...    Apartamento   2100.0   \n",
       "\n",
       "  moneda     m2  ambientes  \n",
       "0    USD  192.0        4.0  \n",
       "1    USD   38.0        1.0  \n",
       "2    COP   57.0        1.0  \n",
       "3    COP   60.0        3.0  \n",
       "4    COP   64.0        3.0  "
      ]
     },
     "execution_count": 11,
     "metadata": {},
     "output_type": "execute_result"
    }
   ],
   "source": [
    "df.head()"
   ]
  },
  {
   "cell_type": "code",
   "execution_count": 12,
   "metadata": {
    "executionInfo": {
     "elapsed": 3729,
     "status": "ok",
     "timestamp": 1603750498969,
     "user": {
      "displayName": "Hernán Contigiani",
      "photoUrl": "https://lh3.googleusercontent.com/a-/AOh14Ggvg04lTitIUU72BS6D299tXlZG8qalV594KkKRfg=s64",
      "userId": "01142101934719343059"
     },
     "user_tz": 180
    },
    "id": "fyOu8suvF8cP"
   },
   "outputs": [],
   "source": [
    "# Sacamos todas las filas de la tabla las cuales el campo \"m2\" o \"ambientes\" se encuentre vacio\n",
    "df_clean = df.copy()\n",
    "df_clean.dropna(subset=['m2'], inplace=True)\n",
    "df_clean.dropna(subset=['ambientes'], inplace=True)\n",
    "\n",
    "# Otra manera de obtener el mismo resultado:\n",
    "#df_clean = df[df['m2'].notna()]\n",
    "#df_clean = df_clean[df_clean['ambientes'].notna()]"
   ]
  },
  {
   "cell_type": "code",
   "execution_count": 13,
   "metadata": {
    "colab": {
     "base_uri": "https://localhost:8080/",
     "height": 34
    },
    "executionInfo": {
     "elapsed": 3721,
     "status": "ok",
     "timestamp": 1603750498970,
     "user": {
      "displayName": "Hernán Contigiani",
      "photoUrl": "https://lh3.googleusercontent.com/a-/AOh14Ggvg04lTitIUU72BS6D299tXlZG8qalV594KkKRfg=s64",
      "userId": "01142101934719343059"
     },
     "user_tz": 180
    },
    "id": "bjzK91EoLfJZ",
    "outputId": "cbc884ad-b53b-4ada-d772-991fda714719"
   },
   "outputs": [
    {
     "data": {
      "text/plain": [
       "(1044, 10)"
      ]
     },
     "execution_count": 13,
     "metadata": {},
     "output_type": "execute_result"
    }
   ],
   "source": [
    "# ¿Cuántos datos quedaron para analizar?\n",
    "# (filas, columnas)\n",
    "df_clean.shape"
   ]
  },
  {
   "cell_type": "markdown",
   "metadata": {
    "id": "l17CbKBnLTbu"
   },
   "source": [
    "## Fin de la limpieza\n",
    "Se finalizó la limpieza sacando aquellas filas que no eran de interes, se puede observar que la cantidad de filas hasta el momento es menor a la cantidad de filas con la que se comnezó el análisis"
   ]
  },
  {
   "cell_type": "code",
   "execution_count": 14,
   "metadata": {
    "colab": {
     "base_uri": "https://localhost:8080/",
     "height": 34
    },
    "executionInfo": {
     "elapsed": 3713,
     "status": "ok",
     "timestamp": 1603750498971,
     "user": {
      "displayName": "Hernán Contigiani",
      "photoUrl": "https://lh3.googleusercontent.com/a-/AOh14Ggvg04lTitIUU72BS6D299tXlZG8qalV594KkKRfg=s64",
      "userId": "01142101934719343059"
     },
     "user_tz": 180
    },
    "id": "XPQ2CtCGL3Zn",
    "outputId": "12f651ee-c291-4095-f240-78d23273ff98"
   },
   "outputs": [
    {
     "name": "stdout",
     "output_type": "stream",
     "text": [
      "Cantidad de datos en observacion: 1044\n"
     ]
    }
   ],
   "source": [
    "print('Cantidad de datos en observacion:', df_clean.shape[0])"
   ]
  },
  {
   "cell_type": "markdown",
   "metadata": {
    "id": "8T_3enyVHYJa"
   },
   "source": [
    "# Explorar datos"
   ]
  },
  {
   "cell_type": "code",
   "execution_count": 15,
   "metadata": {
    "colab": {
     "base_uri": "https://localhost:8080/",
     "height": 204
    },
    "executionInfo": {
     "elapsed": 3706,
     "status": "ok",
     "timestamp": 1603750498972,
     "user": {
      "displayName": "Hernán Contigiani",
      "photoUrl": "https://lh3.googleusercontent.com/a-/AOh14Ggvg04lTitIUU72BS6D299tXlZG8qalV594KkKRfg=s64",
      "userId": "01142101934719343059"
     },
     "user_tz": 180
    },
    "id": "5OZpKcO8Mh3A",
    "outputId": "58537c41-b4b1-45ce-f6db-18b5b83b53d2"
   },
   "outputs": [
    {
     "data": {
      "text/html": [
       "<div>\n",
       "<style scoped>\n",
       "    .dataframe tbody tr th:only-of-type {\n",
       "        vertical-align: middle;\n",
       "    }\n",
       "\n",
       "    .dataframe tbody tr th {\n",
       "        vertical-align: top;\n",
       "    }\n",
       "\n",
       "    .dataframe thead th {\n",
       "        text-align: right;\n",
       "    }\n",
       "</style>\n",
       "<table border=\"1\" class=\"dataframe\">\n",
       "  <thead>\n",
       "    <tr style=\"text-align: right;\">\n",
       "      <th></th>\n",
       "      <th>Unnamed: 0</th>\n",
       "      <th>Unnamed: 0.1</th>\n",
       "      <th>latitud</th>\n",
       "      <th>longitud</th>\n",
       "      <th>titulo</th>\n",
       "      <th>tipo_propiedad</th>\n",
       "      <th>precio</th>\n",
       "      <th>moneda</th>\n",
       "      <th>m2</th>\n",
       "      <th>ambientes</th>\n",
       "    </tr>\n",
       "  </thead>\n",
       "  <tbody>\n",
       "    <tr>\n",
       "      <th>0</th>\n",
       "      <td>0</td>\n",
       "      <td>0</td>\n",
       "      <td>-34.611270</td>\n",
       "      <td>-58.36378</td>\n",
       "      <td>Departamento-alquiler - Puerto Madero-situar</td>\n",
       "      <td>Apartamento</td>\n",
       "      <td>2900.0</td>\n",
       "      <td>USD</td>\n",
       "      <td>192.0</td>\n",
       "      <td>4.0</td>\n",
       "    </tr>\n",
       "    <tr>\n",
       "      <th>1</th>\n",
       "      <td>1</td>\n",
       "      <td>1</td>\n",
       "      <td>-34.589848</td>\n",
       "      <td>-58.50942</td>\n",
       "      <td>Oportunidad! Monoambiente A Estrenar - Alquile...</td>\n",
       "      <td>Apartamento</td>\n",
       "      <td>50.0</td>\n",
       "      <td>USD</td>\n",
       "      <td>38.0</td>\n",
       "      <td>1.0</td>\n",
       "    </tr>\n",
       "    <tr>\n",
       "      <th>2</th>\n",
       "      <td>2</td>\n",
       "      <td>2</td>\n",
       "      <td>-34.605970</td>\n",
       "      <td>-34.60597</td>\n",
       "      <td>Alquiler Temporario De Lujo 4/p Hospital Itali...</td>\n",
       "      <td>Apartamento</td>\n",
       "      <td>1866.0</td>\n",
       "      <td>COP</td>\n",
       "      <td>57.0</td>\n",
       "      <td>1.0</td>\n",
       "    </tr>\n",
       "    <tr>\n",
       "      <th>3</th>\n",
       "      <td>3</td>\n",
       "      <td>3</td>\n",
       "      <td>-34.590656</td>\n",
       "      <td>-58.44873</td>\n",
       "      <td>Excelente Departamento 3 Ambientes (2 Cuartos)...</td>\n",
       "      <td>Apartamento</td>\n",
       "      <td>30000.0</td>\n",
       "      <td>COP</td>\n",
       "      <td>60.0</td>\n",
       "      <td>3.0</td>\n",
       "    </tr>\n",
       "    <tr>\n",
       "      <th>4</th>\n",
       "      <td>4</td>\n",
       "      <td>4</td>\n",
       "      <td>-34.624084</td>\n",
       "      <td>-58.38989</td>\n",
       "      <td>Departamentos Alquil Temporario Centro Cap Fed...</td>\n",
       "      <td>Apartamento</td>\n",
       "      <td>2100.0</td>\n",
       "      <td>COP</td>\n",
       "      <td>64.0</td>\n",
       "      <td>3.0</td>\n",
       "    </tr>\n",
       "  </tbody>\n",
       "</table>\n",
       "</div>"
      ],
      "text/plain": [
       "   Unnamed: 0  Unnamed: 0.1    latitud  longitud  \\\n",
       "0           0             0 -34.611270 -58.36378   \n",
       "1           1             1 -34.589848 -58.50942   \n",
       "2           2             2 -34.605970 -34.60597   \n",
       "3           3             3 -34.590656 -58.44873   \n",
       "4           4             4 -34.624084 -58.38989   \n",
       "\n",
       "                                              titulo tipo_propiedad   precio  \\\n",
       "0       Departamento-alquiler - Puerto Madero-situar    Apartamento   2900.0   \n",
       "1  Oportunidad! Monoambiente A Estrenar - Alquile...    Apartamento     50.0   \n",
       "2  Alquiler Temporario De Lujo 4/p Hospital Itali...    Apartamento   1866.0   \n",
       "3  Excelente Departamento 3 Ambientes (2 Cuartos)...    Apartamento  30000.0   \n",
       "4  Departamentos Alquil Temporario Centro Cap Fed...    Apartamento   2100.0   \n",
       "\n",
       "  moneda     m2  ambientes  \n",
       "0    USD  192.0        4.0  \n",
       "1    USD   38.0        1.0  \n",
       "2    COP   57.0        1.0  \n",
       "3    COP   60.0        3.0  \n",
       "4    COP   64.0        3.0  "
      ]
     },
     "execution_count": 15,
     "metadata": {},
     "output_type": "execute_result"
    }
   ],
   "source": [
    "df_clean.head()"
   ]
  },
  {
   "cell_type": "markdown",
   "metadata": {
    "id": "91gOMQg2Mkrd"
   },
   "source": [
    "Se puede observar que hay alquileres en dolares, solo nos quedaremos con aquellos alquileres en pesos"
   ]
  },
  {
   "cell_type": "code",
   "execution_count": 16,
   "metadata": {
    "colab": {
     "base_uri": "https://localhost:8080/",
     "height": 34
    },
    "executionInfo": {
     "elapsed": 3697,
     "status": "ok",
     "timestamp": 1603750498972,
     "user": {
      "displayName": "Hernán Contigiani",
      "photoUrl": "https://lh3.googleusercontent.com/a-/AOh14Ggvg04lTitIUU72BS6D299tXlZG8qalV594KkKRfg=s64",
      "userId": "01142101934719343059"
     },
     "user_tz": 180
    },
    "id": "jzz8F7VgHTHH",
    "outputId": "54f88327-6bbf-42e1-e25a-4c99689014bd"
   },
   "outputs": [
    {
     "name": "stdout",
     "output_type": "stream",
     "text": [
      "Cantidad de datos en observacion: 928\n"
     ]
    }
   ],
   "source": [
    "# Filtramos el dataframe, solos nos quedamos con los alquileres en pesos\n",
    "df_ars = df_clean[df_clean['moneda'] == 'COP']\n",
    "print('Cantidad de datos en observacion:', df_ars.shape[0])"
   ]
  },
  {
   "cell_type": "code",
   "execution_count": 17,
   "metadata": {
    "colab": {
     "base_uri": "https://localhost:8080/",
     "height": 551
    },
    "executionInfo": {
     "elapsed": 3689,
     "status": "ok",
     "timestamp": 1603750498973,
     "user": {
      "displayName": "Hernán Contigiani",
      "photoUrl": "https://lh3.googleusercontent.com/a-/AOh14Ggvg04lTitIUU72BS6D299tXlZG8qalV594KkKRfg=s64",
      "userId": "01142101934719343059"
     },
     "user_tz": 180
    },
    "id": "v0p6e95WMscW",
    "outputId": "3c00eeba-1904-49d3-8331-4b3b9b5aff18"
   },
   "outputs": [
    {
     "data": {
      "image/png": "[encoded data removed]",
      "text/plain": [
       "<Figure size 1152x648 with 1 Axes>"
      ]
     },
     "metadata": {
      "needs_background": "light"
     },
     "output_type": "display_data"
    }
   ],
   "source": [
    "# Renderizamos el gráfico utilizando el diagrama de cajas\n",
    "#df_ars.boxplot(column=['m2'])\n",
    "fig = plt.figure(figsize=(16, 9))\n",
    "ax = fig.add_subplot()\n",
    "sns.boxplot(x=df_ars['m2'], ax=ax)\n",
    "ax.grid('dashed')"
   ]
  },
  {
   "cell_type": "markdown",
   "metadata": {
    "id": "cKbXNhC6M5x8"
   },
   "source": [
    "Se puede observar que hay muchos alquileres \"outliers\", es decir que se escapan de la tendencia. Filtraremos aquellos que no aportan al análisis"
   ]
  },
  {
   "cell_type": "code",
   "execution_count": 18,
   "metadata": {
    "executionInfo": {
     "elapsed": 3687,
     "status": "ok",
     "timestamp": 1603750498974,
     "user": {
      "displayName": "Hernán Contigiani",
      "photoUrl": "https://lh3.googleusercontent.com/a-/AOh14Ggvg04lTitIUU72BS6D299tXlZG8qalV594KkKRfg=s64",
      "userId": "01142101934719343059"
     },
     "user_tz": 180
    },
    "id": "02AnTpR1IPHl"
   },
   "outputs": [],
   "source": [
    "# Nos quedamos solamente con los deparamentos menor a 200m2 y mayor a 50m2\n",
    "# Utilizamos el concepto de \"máscara\" tal cual fue visto en Numpy\n",
    "# para filtrar el dataframe de propiedads deseado\n",
    "propiedades = df_ars[(df_ars['m2'] < 200) & (df_ars['m2'] > 50)]"
   ]
  },
  {
   "cell_type": "code",
   "execution_count": 19,
   "metadata": {
    "colab": {
     "base_uri": "https://localhost:8080/",
     "height": 34
    },
    "executionInfo": {
     "elapsed": 3680,
     "status": "ok",
     "timestamp": 1603750498975,
     "user": {
      "displayName": "Hernán Contigiani",
      "photoUrl": "https://lh3.googleusercontent.com/a-/AOh14Ggvg04lTitIUU72BS6D299tXlZG8qalV594KkKRfg=s64",
      "userId": "01142101934719343059"
     },
     "user_tz": 180
    },
    "id": "UNO4xVXjNGZW",
    "outputId": "37252a74-fd3a-462c-d206-cd7cfac289f3"
   },
   "outputs": [
    {
     "name": "stdout",
     "output_type": "stream",
     "text": [
      "Cantidad de datos en observacion: 323\n"
     ]
    }
   ],
   "source": [
    "print('Cantidad de datos en observacion:', propiedades.shape[0])"
   ]
  },
  {
   "cell_type": "code",
   "execution_count": 20,
   "metadata": {
    "colab": {
     "base_uri": "https://localhost:8080/",
     "height": 279
    },
    "executionInfo": {
     "elapsed": 3672,
     "status": "ok",
     "timestamp": 1603750498975,
     "user": {
      "displayName": "Hernán Contigiani",
      "photoUrl": "https://lh3.googleusercontent.com/a-/AOh14Ggvg04lTitIUU72BS6D299tXlZG8qalV594KkKRfg=s64",
      "userId": "01142101934719343059"
     },
     "user_tz": 180
    },
    "id": "y4BHiuUuJIBg",
    "outputId": "91b6b8de-1ebe-4640-a306-4ae96147d243"
   },
   "outputs": [
    {
     "data": {
      "image/png": "[encoded data removed]",
      "text/plain": [
       "<Figure size 432x288 with 1 Axes>"
      ]
     },
     "metadata": {
      "needs_background": "light"
     },
     "output_type": "display_data"
    }
   ],
   "source": [
    "# Graficar la tendencia\n",
    "sns.scatterplot(x=propiedades['m2'], y=propiedades['precio'], color='b', label='precio vs m2')\n",
    "plt.show()"
   ]
  },
  {
   "cell_type": "markdown",
   "metadata": {
    "id": "APXYUcIdiDHh"
   },
   "source": [
    "# Entrenar modelo"
   ]
  },
  {
   "cell_type": "markdown",
   "metadata": {
    "id": "8y9xIL_0iE5N"
   },
   "source": [
    "El primer paso es obtener los datos que serán la entrada del sistema (X) y los datos que serán la salida del modelo estimador (y)"
   ]
  },
  {
   "cell_type": "code",
   "execution_count": 21,
   "metadata": {
    "executionInfo": {
     "elapsed": 3670,
     "status": "ok",
     "timestamp": 1603750498976,
     "user": {
      "displayName": "Hernán Contigiani",
      "photoUrl": "https://lh3.googleusercontent.com/a-/AOh14Ggvg04lTitIUU72BS6D299tXlZG8qalV594KkKRfg=s64",
      "userId": "01142101934719343059"
     },
     "user_tz": 180
    },
    "id": "eyrysoOyiMFV"
   },
   "outputs": [],
   "source": [
    "X = propiedades[['m2']].values\n",
    "y = propiedades['precio'].values"
   ]
  },
  {
   "cell_type": "markdown",
   "metadata": {
    "id": "HgPxfYKBiO-u"
   },
   "source": [
    "Siguiente paso es dividir el dataset en entrenamiento (train) y evaluación (test). Utilizaremos el criterio 70%30%"
   ]
  },
  {
   "cell_type": "code",
   "execution_count": 22,
   "metadata": {
    "executionInfo": {
     "elapsed": 3667,
     "status": "ok",
     "timestamp": 1603750498976,
     "user": {
      "displayName": "Hernán Contigiani",
      "photoUrl": "https://lh3.googleusercontent.com/a-/AOh14Ggvg04lTitIUU72BS6D299tXlZG8qalV594KkKRfg=s64",
      "userId": "01142101934719343059"
     },
     "user_tz": 180
    },
    "id": "B7h8kmBTTAh2"
   },
   "outputs": [],
   "source": [
    "from sklearn.model_selection import train_test_split\n",
    "# Fijamos un \"random_state\" constante para que siempre el dataset se parta de la misma forma\n",
    "# para poder repetir los ensayos\n",
    "# Ojo! Los dataset de train y test son array numpy\n",
    "X_train, X_test, y_train, y_test = train_test_split(X, y, test_size=0.3, random_state=42)"
   ]
  },
  {
   "cell_type": "markdown",
   "metadata": {
    "id": "z-poA1jPinmC"
   },
   "source": [
    "Ahora generaremos un modelo \"base\", el cual podremos utilizarlo para evaluar en la próxima instancia contra el modelo que construyamos con inteligencia artificial"
   ]
  },
  {
   "cell_type": "code",
   "execution_count": 23,
   "metadata": {
    "executionInfo": {
     "elapsed": 4090,
     "status": "ok",
     "timestamp": 1603750499401,
     "user": {
      "displayName": "Hernán Contigiani",
      "photoUrl": "https://lh3.googleusercontent.com/a-/AOh14Ggvg04lTitIUU72BS6D299tXlZG8qalV594KkKRfg=s64",
      "userId": "01142101934719343059"
     },
     "user_tz": 180
    },
    "id": "ErnuaVvSilkB"
   },
   "outputs": [],
   "source": [
    "# Creamos el modelo base\n",
    "class MeanBaseModel():\n",
    "    def __init__(self):\n",
    "        self.W = 0\n",
    "\n",
    "    def fit(self, X, y):\n",
    "        self.W = np.mean(y / X)\n",
    "\n",
    "    def predict(self, X):\n",
    "        return X * self.W"
   ]
  },
  {
   "cell_type": "code",
   "execution_count": 24,
   "metadata": {
    "colab": {
     "base_uri": "https://localhost:8080/",
     "height": 34
    },
    "executionInfo": {
     "elapsed": 4084,
     "status": "ok",
     "timestamp": 1603750499402,
     "user": {
      "displayName": "Hernán Contigiani",
      "photoUrl": "https://lh3.googleusercontent.com/a-/AOh14Ggvg04lTitIUU72BS6D299tXlZG8qalV594KkKRfg=s64",
      "userId": "01142101934719343059"
     },
     "user_tz": 180
    },
    "id": "Tr1v3SoikE9V",
    "outputId": "516f656f-1af0-4764-fa3a-acf6feed8e64"
   },
   "outputs": [
    {
     "name": "stdout",
     "output_type": "stream",
     "text": [
      "Precio del m2 promedio: $713.25\n"
     ]
    }
   ],
   "source": [
    "# Entrenar nuestro modelo base (un promediador)\n",
    "mean_model = MeanBaseModel()\n",
    "mean_model.fit(X_train, y_train)\n",
    "y_hat_base = mean_model.predict(X_test)\n",
    "print(f\"Precio del m2 promedio: ${mean_model.W:.2f}\")"
   ]
  },
  {
   "cell_type": "code",
   "execution_count": 25,
   "metadata": {
    "colab": {
     "base_uri": "https://localhost:8080/",
     "height": 34
    },
    "executionInfo": {
     "elapsed": 4077,
     "status": "ok",
     "timestamp": 1603750499403,
     "user": {
      "displayName": "Hernán Contigiani",
      "photoUrl": "https://lh3.googleusercontent.com/a-/AOh14Ggvg04lTitIUU72BS6D299tXlZG8qalV594KkKRfg=s64",
      "userId": "01142101934719343059"
     },
     "user_tz": 180
    },
    "id": "23cn4wVFkQC4",
    "outputId": "7d686e82-e1ed-4d69-b712-4f665086bdfd"
   },
   "outputs": [
    {
     "name": "stdout",
     "output_type": "stream",
     "text": [
      "Precio del m2 promedio: $713.25\n"
     ]
    }
   ],
   "source": [
    "# Sino hubieramos utilizado el modelo generado, las líneas de código serían:\n",
    "precio_m2 = y_train / X_train\n",
    "promedio_precio_m2 = precio_m2.mean()\n",
    "y_hat_base = X_test * promedio_precio_m2\n",
    "print(f\"Precio del m2 promedio: ${promedio_precio_m2:.2f}\")"
   ]
  },
  {
   "cell_type": "code",
   "execution_count": 26,
   "metadata": {
    "colab": {
     "base_uri": "https://localhost:8080/",
     "height": 265
    },
    "executionInfo": {
     "elapsed": 4069,
     "status": "ok",
     "timestamp": 1603750499404,
     "user": {
      "displayName": "Hernán Contigiani",
      "photoUrl": "https://lh3.googleusercontent.com/a-/AOh14Ggvg04lTitIUU72BS6D299tXlZG8qalV594KkKRfg=s64",
      "userId": "01142101934719343059"
     },
     "user_tz": 180
    },
    "id": "51iGrk0dkzSS",
    "outputId": "f15a62f1-fde1-4022-9ad1-22d697b2f4d7"
   },
   "outputs": [
    {
     "data": {
      "image/png": "[encoded data removed]",
      "text/plain": [
       "<Figure size 432x288 with 1 Axes>"
      ]
     },
     "metadata": {
      "needs_background": "light"
     },
     "output_type": "display_data"
    }
   ],
   "source": [
    "sns.scatterplot(x=X_test[:,0], y=y_hat_base[:,0], color='darkGreen', label='y_hat_model')\n",
    "#plt.scatter(X_test, y_hat_base, color='darkGreen', label='y_hat_model')\n",
    "plt.show()"
   ]
  },
  {
   "cell_type": "code",
   "execution_count": 27,
   "metadata": {
    "colab": {
     "base_uri": "https://localhost:8080/",
     "height": 279
    },
    "executionInfo": {
     "elapsed": 5100,
     "status": "ok",
     "timestamp": 1603750500443,
     "user": {
      "displayName": "Hernán Contigiani",
      "photoUrl": "https://lh3.googleusercontent.com/a-/AOh14Ggvg04lTitIUU72BS6D299tXlZG8qalV594KkKRfg=s64",
      "userId": "01142101934719343059"
     },
     "user_tz": 180
    },
    "id": "Ec1Ys5M_mS0o",
    "outputId": "7636a749-cbbb-4d90-9703-f3c8e4b56ba5"
   },
   "outputs": [
    {
     "data": {
      "image/png": "[encoded data removed]",
      "text/plain": [
       "<Figure size 432x288 with 1 Axes>"
      ]
     },
     "metadata": {
      "needs_background": "light"
     },
     "output_type": "display_data"
    }
   ],
   "source": [
    "fig = plt.figure()\n",
    "ax = fig.add_subplot()\n",
    "propiedades.plot.scatter(['m2'], ['precio'], color='b', ax=ax)\n",
    "ax.scatter(X_test, y_hat_base, color='darkGreen', label=\"base model\")\n",
    "ax.legend()\n",
    "plt.show()"
   ]
  },
  {
   "cell_type": "markdown",
   "metadata": {
    "id": "I8J6CgdImiqD"
   },
   "source": [
    "Como se observa en el último gráfico, la línea verde aproxima bastante a la distribución de puntos azules, pero debería \"apuntar\" un poco más arriba. En el próximo encuentro discutiremos porque sucede este fenomeno"
   ]
  },
  {
   "cell_type": "code",
   "execution_count": 28,
   "metadata": {
    "colab": {
     "base_uri": "https://localhost:8080/",
     "height": 51
    },
    "executionInfo": {
     "elapsed": 5098,
     "status": "ok",
     "timestamp": 1603750500450,
     "user": {
      "displayName": "Hernán Contigiani",
      "photoUrl": "https://lh3.googleusercontent.com/a-/AOh14Ggvg04lTitIUU72BS6D299tXlZG8qalV594KkKRfg=s64",
      "userId": "01142101934719343059"
     },
     "user_tz": 180
    },
    "id": "USTZDQPemK2G",
    "outputId": "c0ab1c19-d048-42ef-9ec8-128e4789c71c"
   },
   "outputs": [
    {
     "name": "stdout",
     "output_type": "stream",
     "text": [
      "Error promedio   MAE - Modelo Base: 24545.707558628514\n",
      "Error cuadrático MSE - Modelo Base: 1320419545.8662236\n"
     ]
    }
   ],
   "source": [
    "# Calcular los errores del modelo base\n",
    "from sklearn.metrics import mean_absolute_error\n",
    "from sklearn.metrics import mean_squared_error\n",
    "\n",
    "print('Error promedio   MAE - Modelo Base:', mean_absolute_error(y_test, y_hat_base))\n",
    "print('Error cuadrático MSE - Modelo Base:', mean_squared_error(y_test, y_hat_base))"
   ]
  },
  {
   "cell_type": "markdown",
   "metadata": {
    "id": "H34ta5U8nNL4"
   },
   "source": [
    "Sin utilizar inteligencia artificial, unicamente con nuestro conocimientos sobre los datos y estadística hemos generado un primer modelo base competirá contra los algoritmos de inteligencia artificial que veremos en la siguiente etapa"
   ]
  },
  {
   "cell_type": "markdown",
   "metadata": {
    "id": "UdIRSo5RoW2_"
   },
   "source": [
    "#### Crear un modelo de regresión lineal simple para constrastar contra el modelo base"
   ]
  },
  {
   "cell_type": "code",
   "execution_count": 29,
   "metadata": {
    "executionInfo": {
     "elapsed": 5097,
     "status": "ok",
     "timestamp": 1603750500452,
     "user": {
      "displayName": "Hernán Contigiani",
      "photoUrl": "https://lh3.googleusercontent.com/a-/AOh14Ggvg04lTitIUU72BS6D299tXlZG8qalV594KkKRfg=s64",
      "userId": "01142101934719343059"
     },
     "user_tz": 180
    },
    "id": "ftYRtP0kLk4S"
   },
   "outputs": [],
   "source": [
    "from sklearn import linear_model\n",
    "# Calcular y visualizar le prediccion de costos por m2\n",
    "lr = linear_model.LinearRegression()\n",
    "lr.fit(X_train, y_train)\n",
    "y_hat= lr.predict(X_test)"
   ]
  },
  {
   "cell_type": "markdown",
   "metadata": {
    "id": "L65NqXhOohII"
   },
   "source": [
    "# Validar modelo"
   ]
  },
  {
   "cell_type": "code",
   "execution_count": 30,
   "metadata": {
    "colab": {
     "base_uri": "https://localhost:8080/",
     "height": 34
    },
    "executionInfo": {
     "elapsed": 5089,
     "status": "ok",
     "timestamp": 1603750500453,
     "user": {
      "displayName": "Hernán Contigiani",
      "photoUrl": "https://lh3.googleusercontent.com/a-/AOh14Ggvg04lTitIUU72BS6D299tXlZG8qalV594KkKRfg=s64",
      "userId": "01142101934719343059"
     },
     "user_tz": 180
    },
    "id": "r21RklSQpElK",
    "outputId": "60467bc2-309e-4c65-ef14-6e79271abcf2"
   },
   "outputs": [
    {
     "name": "stdout",
     "output_type": "stream",
     "text": [
      "Coeficiente de determinación: 0.40\n"
     ]
    }
   ],
   "source": [
    "from sklearn.metrics import r2_score\n",
    "# En este caso, ya que se trata de una regresión lineal puedo relacinonar el\n",
    "# índice R2 con el coeficiente de correlación lineal.\n",
    "value = r2_score(y_test, y_hat)\n",
    "print(f\"Coeficiente de determinación: {value:.2f}\")"
   ]
  },
  {
   "cell_type": "markdown",
   "metadata": {
    "id": "nmIMJQe3pPaJ"
   },
   "source": [
    "Se obtuvo un índice de correlación del 40%, parece bajo, ¿será mejor el modelo base?"
   ]
  },
  {
   "cell_type": "code",
   "execution_count": 31,
   "metadata": {
    "colab": {
     "base_uri": "https://localhost:8080/",
     "height": 34
    },
    "executionInfo": {
     "elapsed": 5081,
     "status": "ok",
     "timestamp": 1603750500454,
     "user": {
      "displayName": "Hernán Contigiani",
      "photoUrl": "https://lh3.googleusercontent.com/a-/AOh14Ggvg04lTitIUU72BS6D299tXlZG8qalV594KkKRfg=s64",
      "userId": "01142101934719343059"
     },
     "user_tz": 180
    },
    "id": "nbDcS8NyqFdq",
    "outputId": "47ec0fc7-3d91-4733-cdb0-26adc45bc62a"
   },
   "outputs": [
    {
     "name": "stdout",
     "output_type": "stream",
     "text": [
      "Coeficiente de determinación: 0.37\n"
     ]
    }
   ],
   "source": [
    "value = r2_score(y_test, y_hat_base)\n",
    "print(f\"Coeficiente de determinación: {value:.2f}\")"
   ]
  },
  {
   "cell_type": "markdown",
   "metadata": {
    "id": "C1Ndkl6uopBq"
   },
   "source": [
    "# Utilizar modelo"
   ]
  },
  {
   "cell_type": "code",
   "execution_count": 32,
   "metadata": {
    "colab": {
     "base_uri": "https://localhost:8080/",
     "height": 654
    },
    "executionInfo": {
     "elapsed": 5074,
     "status": "ok",
     "timestamp": 1603750500455,
     "user": {
      "displayName": "Hernán Contigiani",
      "photoUrl": "https://lh3.googleusercontent.com/a-/AOh14Ggvg04lTitIUU72BS6D299tXlZG8qalV594KkKRfg=s64",
      "userId": "01142101934719343059"
     },
     "user_tz": 180
    },
    "id": "bQ95TXnCNM1H",
    "outputId": "e1d833ea-0337-4f29-af51-fd0470a476f0"
   },
   "outputs": [
    {
     "data": {
      "image/png": "[encoded data removed]",
      "text/plain": [
       "<Figure size 720x360 with 1 Axes>"
      ]
     },
     "metadata": {
      "needs_background": "light"
     },
     "output_type": "display_data"
    },
    {
     "name": "stderr",
     "output_type": "stream",
     "text": [
      "No handles with labels found to put in legend.\n"
     ]
    },
    {
     "data": {
      "image/png": "[encoded data removed]",
      "text/plain": [
       "<Figure size 720x360 with 1 Axes>"
      ]
     },
     "metadata": {
      "needs_background": "light"
     },
     "output_type": "display_data"
    }
   ],
   "source": [
    "m1 = lr.coef_\n",
    "b1 = lr.intercept_\n",
    "lx1 = np.array([0, X_test.max()])\n",
    "ly1 = lx1 * m1 + b1\n",
    "\n",
    "m2 = promedio_precio_m2\n",
    "b2 = 0\n",
    "lx2 = np.array([0, X_test.max()])\n",
    "ly2 = lx2 * m2 + b2\n",
    "\n",
    "fig = plt.figure(figsize=(10, 5))\n",
    "ax = fig.add_subplot()\n",
    "ax.scatter(X_test, y_hat, color='darkOrange')\n",
    "ax.plot(lx1, ly1, color='darkOrange', label='regresión')\n",
    "ax.scatter(X_test, y_hat_base, color='darkGreen')\n",
    "ax.plot(lx2, ly2, color='darkGreen', label='promedio')\n",
    "ax.grid(ls='dashed')\n",
    "ax.legend()\n",
    "plt.show()\n",
    "\n",
    "fig = plt.figure(figsize=(10, 5))\n",
    "ax = fig.add_subplot()\n",
    "propiedades.plot.scatter(['m2'], ['precio'], color='b', ax=ax)\n",
    "ax.scatter(X_test, y_hat_base, color='darkGreen')\n",
    "ax.scatter(X_test, y_hat, color='darkOrange')\n",
    "ax.legend()\n",
    "plt.show()"
   ]
  },
  {
   "cell_type": "code",
   "execution_count": 33,
   "metadata": {
    "colab": {
     "base_uri": "https://localhost:8080/",
     "height": 102
    },
    "executionInfo": {
     "elapsed": 5069,
     "status": "ok",
     "timestamp": 1603750500456,
     "user": {
      "displayName": "Hernán Contigiani",
      "photoUrl": "https://lh3.googleusercontent.com/a-/AOh14Ggvg04lTitIUU72BS6D299tXlZG8qalV594KkKRfg=s64",
      "userId": "01142101934719343059"
     },
     "user_tz": 180
    },
    "id": "E1tpmlDvMPn1",
    "outputId": "e6ef2790-8953-489f-f182-ebad73923e33"
   },
   "outputs": [
    {
     "name": "stdout",
     "output_type": "stream",
     "text": [
      "Error promedio - Regresion Lineal: 22903.7634170032\n",
      "Error promedio - Modelo Base: 24545.707558628514\n",
      "\n",
      "Error MSE - Regresion Lineal: 1265841661.6111314\n",
      "Error MSE - Modelo Base: 1320419545.8662236\n"
     ]
    }
   ],
   "source": [
    "# Calcular los errores del modelo base\n",
    "from sklearn.metrics import mean_absolute_error\n",
    "from sklearn.metrics import mean_squared_error\n",
    "\n",
    "print('Error promedio - Regresion Lineal:', mean_absolute_error(y_test, y_hat))\n",
    "print('Error promedio - Modelo Base:', mean_absolute_error(y_test, y_hat_base))\n",
    "print('')\n",
    "print('Error MSE - Regresion Lineal:', mean_squared_error(y_test, y_hat))\n",
    "print('Error MSE - Modelo Base:', mean_squared_error(y_test, y_hat_base))"
   ]
  },
  {
   "cell_type": "markdown",
   "metadata": {
    "id": "HVcz7djcpypK"
   },
   "source": [
    "# Conclusión"
   ]
  },
  {
   "cell_type": "markdown",
   "metadata": {
    "id": "hLw3dwRQKmYI"
   },
   "source": [
    "Con esto concluye el trabajo que se realizará sobre el dataset de \"propiedades\". El mejor resultado que se obtuvo fue un ajuste del 40% utilizando una regresión lineal simple.<br>\n",
    "Aunque ese resultado super al modelo base, se puede seguir trabajando agregando más entradas al modelo (multilineal) o mejorando la clasificación de propiedades antes de someterlas a la regresión lineal.<br>\n",
    "Queda en la voluntad del alumno seguir trabajando, puede ser parte de su proyecto final."
   ]
  }
 ],
 "metadata": {
  "colab": {
   "collapsed_sections": [],
   "name": "2_regresion_lineal.ipynb",
   "provenance": [],
   "toc_visible": true
  },
  "kernelspec": {
   "display_name": "Python 3 (ipykernel)",
   "language": "python",
   "name": "python3"
  },
  "language_info": {
   "codemirror_mode": {
    "name": "ipython",
    "version": 3
   },
   "file_extension": ".py",
   "mimetype": "text/x-python",
   "name": "python",
   "nbconvert_exporter": "python",
   "pygments_lexer": "ipython3",
   "version": "3.9.7"
  }
 },
 "nbformat": 4,
 "nbformat_minor": 4
}
