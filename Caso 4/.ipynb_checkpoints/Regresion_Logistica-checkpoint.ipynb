{
 "cells": [
  {
   "cell_type": "markdown",
   "id": "dfa234d4",
   "metadata": {},
   "source": [
    "$$\\mbox{CASO APLICATIVO DE REGRESIÓN LOGÍSTICA}$$\n",
    "\n",
    "Integrantes:\n",
    "    \n",
    "    -Hernan Carmelo Cavadias Martinez\n",
    "    -Duvan Santiago Castro Bolivar \n",
    "    -David Santiago Buitrago Norato\n",
    "    -Miguel Angel Malagón Romero"
   ]
  },
  {
   "cell_type": "code",
   "execution_count": 1,
   "id": "3fb2367d",
   "metadata": {},
   "outputs": [],
   "source": [
    "import pandas as pd \n",
    "import numpy as np\n",
    "from sklearn.model_selection import train_test_split\n",
    "from sklearn.linear_model import LogisticRegression\n",
    "from sklearn.metrics import accuracy_score, classification_report, confusion_matrix\n",
    "import statsmodels.api as sm\n",
    "from imblearn.over_sampling import SMOTE\n",
    "import seaborn as sns\n",
    "import matplotlib.pyplot as plt\n",
    "import warnings\n",
    "warnings.filterwarnings('ignore')"
   ]
  },
  {
   "cell_type": "code",
   "execution_count": 2,
   "id": "69871c92",
   "metadata": {},
   "outputs": [],
   "source": [
    "datos_in = pd.read_excel('datos.xlsx')"
   ]
  },
  {
   "cell_type": "code",
   "execution_count": 76,
   "id": "647682d6",
   "metadata": {
    "scrolled": true
   },
   "outputs": [
    {
     "data": {
      "text/html": [
       "<div>\n",
       "<style scoped>\n",
       "    .dataframe tbody tr th:only-of-type {\n",
       "        vertical-align: middle;\n",
       "    }\n",
       "\n",
       "    .dataframe tbody tr th {\n",
       "        vertical-align: top;\n",
       "    }\n",
       "\n",
       "    .dataframe thead th {\n",
       "        text-align: right;\n",
       "    }\n",
       "</style>\n",
       "<table border=\"1\" class=\"dataframe\">\n",
       "  <thead>\n",
       "    <tr style=\"text-align: right;\">\n",
       "      <th></th>\n",
       "      <th>ID</th>\n",
       "      <th>Churn</th>\n",
       "      <th>Customer Age</th>\n",
       "      <th>CHI Score 0</th>\n",
       "      <th>CHI Score 0-1</th>\n",
       "      <th>Support Cases Month 0</th>\n",
       "      <th>Support Cases 0-1</th>\n",
       "      <th>SP Month 0</th>\n",
       "      <th>SP 0-1</th>\n",
       "      <th>Logins 0-1</th>\n",
       "      <th>Blog Articles 0-1</th>\n",
       "      <th>Views 0-1</th>\n",
       "      <th>Days Since Last Login 0-1</th>\n",
       "    </tr>\n",
       "  </thead>\n",
       "  <tbody>\n",
       "    <tr>\n",
       "      <th>0</th>\n",
       "      <td>1</td>\n",
       "      <td>0</td>\n",
       "      <td>67</td>\n",
       "      <td>0</td>\n",
       "      <td>0</td>\n",
       "      <td>0</td>\n",
       "      <td>0</td>\n",
       "      <td>0.0</td>\n",
       "      <td>0.0</td>\n",
       "      <td>0</td>\n",
       "      <td>0</td>\n",
       "      <td>0</td>\n",
       "      <td>31</td>\n",
       "    </tr>\n",
       "    <tr>\n",
       "      <th>1</th>\n",
       "      <td>2</td>\n",
       "      <td>0</td>\n",
       "      <td>67</td>\n",
       "      <td>62</td>\n",
       "      <td>4</td>\n",
       "      <td>0</td>\n",
       "      <td>0</td>\n",
       "      <td>0.0</td>\n",
       "      <td>0.0</td>\n",
       "      <td>0</td>\n",
       "      <td>0</td>\n",
       "      <td>-16</td>\n",
       "      <td>31</td>\n",
       "    </tr>\n",
       "    <tr>\n",
       "      <th>2</th>\n",
       "      <td>3</td>\n",
       "      <td>0</td>\n",
       "      <td>55</td>\n",
       "      <td>0</td>\n",
       "      <td>0</td>\n",
       "      <td>0</td>\n",
       "      <td>0</td>\n",
       "      <td>0.0</td>\n",
       "      <td>0.0</td>\n",
       "      <td>0</td>\n",
       "      <td>0</td>\n",
       "      <td>0</td>\n",
       "      <td>31</td>\n",
       "    </tr>\n",
       "    <tr>\n",
       "      <th>3</th>\n",
       "      <td>4</td>\n",
       "      <td>0</td>\n",
       "      <td>63</td>\n",
       "      <td>231</td>\n",
       "      <td>1</td>\n",
       "      <td>1</td>\n",
       "      <td>-1</td>\n",
       "      <td>3.0</td>\n",
       "      <td>0.0</td>\n",
       "      <td>167</td>\n",
       "      <td>-8</td>\n",
       "      <td>21996</td>\n",
       "      <td>0</td>\n",
       "    </tr>\n",
       "    <tr>\n",
       "      <th>4</th>\n",
       "      <td>5</td>\n",
       "      <td>0</td>\n",
       "      <td>57</td>\n",
       "      <td>43</td>\n",
       "      <td>-1</td>\n",
       "      <td>0</td>\n",
       "      <td>0</td>\n",
       "      <td>0.0</td>\n",
       "      <td>0.0</td>\n",
       "      <td>0</td>\n",
       "      <td>0</td>\n",
       "      <td>9</td>\n",
       "      <td>31</td>\n",
       "    </tr>\n",
       "  </tbody>\n",
       "</table>\n",
       "</div>"
      ],
      "text/plain": [
       "   ID  Churn  Customer Age  CHI Score 0  CHI Score 0-1  Support Cases Month 0  \\\n",
       "0   1      0            67            0              0                      0   \n",
       "1   2      0            67           62              4                      0   \n",
       "2   3      0            55            0              0                      0   \n",
       "3   4      0            63          231              1                      1   \n",
       "4   5      0            57           43             -1                      0   \n",
       "\n",
       "   Support Cases 0-1  SP Month 0  SP 0-1  Logins 0-1  Blog Articles 0-1  \\\n",
       "0                  0         0.0     0.0           0                  0   \n",
       "1                  0         0.0     0.0           0                  0   \n",
       "2                  0         0.0     0.0           0                  0   \n",
       "3                 -1         3.0     0.0         167                 -8   \n",
       "4                  0         0.0     0.0           0                  0   \n",
       "\n",
       "   Views 0-1   Days Since Last Login 0-1  \n",
       "0          0                          31  \n",
       "1        -16                          31  \n",
       "2          0                          31  \n",
       "3      21996                           0  \n",
       "4          9                          31  "
      ]
     },
     "execution_count": 76,
     "metadata": {},
     "output_type": "execute_result"
    }
   ],
   "source": [
    "datos_in.head()"
   ]
  },
  {
   "cell_type": "markdown",
   "id": "ed088eac",
   "metadata": {},
   "source": [
    "## Data Understanding"
   ]
  },
  {
   "cell_type": "code",
   "execution_count": null,
   "id": "26c68fc4",
   "metadata": {},
   "outputs": [],
   "source": []
  },
  {
   "cell_type": "markdown",
   "id": "7ef0de0e",
   "metadata": {},
   "source": [
    "## Data Preparation"
   ]
  },
  {
   "cell_type": "code",
   "execution_count": 77,
   "id": "d414478d",
   "metadata": {},
   "outputs": [],
   "source": [
    "datos = datos_in.copy()\n",
    "datos['Customer Age'] = datos['Customer Age'].apply(lambda x: 1 if x < 14  else 0)"
   ]
  },
  {
   "cell_type": "code",
   "execution_count": 78,
   "id": "2e15279b",
   "metadata": {},
   "outputs": [],
   "source": [
    "x = datos[datos.columns[2:]].values\n",
    "y = datos['Churn'].values"
   ]
  },
  {
   "cell_type": "code",
   "execution_count": 79,
   "id": "76b09b27",
   "metadata": {},
   "outputs": [
    {
     "name": "stdout",
     "output_type": "stream",
     "text": [
      "Exactitud (Accuracy): 94.88%\n",
      "Matriz de Confusión:\n",
      "[[1205    0]\n",
      " [  65    0]]\n",
      "Informe de Clasificación:\n",
      "              precision    recall  f1-score   support\n",
      "\n",
      "           0       0.95      1.00      0.97      1205\n",
      "           1       0.00      0.00      0.00        65\n",
      "\n",
      "    accuracy                           0.95      1270\n",
      "   macro avg       0.47      0.50      0.49      1270\n",
      "weighted avg       0.90      0.95      0.92      1270\n",
      "\n"
     ]
    }
   ],
   "source": [
    "X_train, X_test, y_train, y_test = train_test_split(x, y, test_size=0.2, random_state=42)\n",
    "\n",
    "model = LogisticRegression()\n",
    "model.fit(X_train, y_train)\n",
    "\n",
    "# Realizar predicciones en el conjunto de prueba\n",
    "y_pred = model.predict(X_test)\n",
    "\n",
    "# Evaluar el modelo\n",
    "accuracy = accuracy_score(y_test, y_pred)\n",
    "conf_matrix = confusion_matrix(y_test, y_pred)\n",
    "class_report = classification_report(y_test, y_pred)\n",
    "\n",
    "# Imprimir resultados\n",
    "print(\"Exactitud (Accuracy): {:.2f}%\".format(accuracy * 100))\n",
    "print(\"Matriz de Confusión:\")\n",
    "print(conf_matrix)\n",
    "print(\"Informe de Clasificación:\")\n",
    "print(class_report)"
   ]
  },
  {
   "cell_type": "code",
   "execution_count": 80,
   "id": "158ce234",
   "metadata": {},
   "outputs": [
    {
     "name": "stdout",
     "output_type": "stream",
     "text": [
      "Optimization terminated successfully.\n",
      "         Current function value: 0.224896\n",
      "         Iterations 9\n",
      "Coeficientes del modelo:\n",
      "[-2.12167970e+00 -2.32113586e-02  4.47003574e-03  2.28124283e-02\n",
      "  3.49431213e-02 -2.94898452e-02 -5.98338606e-02  1.97381108e-03\n",
      " -2.73070523e-02 -1.51797812e-04 -2.33968523e-03]\n",
      "\n",
      "Test de significancia:\n",
      "                           Logit Regression Results                           \n",
      "==============================================================================\n",
      "Dep. Variable:                      y   No. Observations:                 6347\n",
      "Model:                          Logit   Df Residuals:                     6336\n",
      "Method:                           MLE   Df Model:                           10\n",
      "Date:                Wed, 27 Sep 2023   Pseudo R-squ.:                 -0.1182\n",
      "Time:                        22:09:46   Log-Likelihood:                -1427.4\n",
      "converged:                       True   LL-Null:                       -1276.6\n",
      "Covariance Type:            nonrobust   LLR p-value:                     1.000\n",
      "==============================================================================\n",
      "                 coef    std err          z      P>|z|      [0.025      0.975]\n",
      "------------------------------------------------------------------------------\n",
      "x1            -2.1217      0.082    -25.810      0.000      -2.283      -1.961\n",
      "x2            -0.0232      0.001    -25.010      0.000      -0.025      -0.021\n",
      "x3             0.0045      0.002      1.957      0.050   -7.61e-06       0.009\n",
      "x4             0.0228      0.094      0.242      0.809      -0.162       0.207\n",
      "x5             0.0349      0.083      0.423      0.672      -0.127       0.197\n",
      "x6            -0.0295      0.097     -0.304      0.761      -0.220       0.161\n",
      "x7            -0.0598      0.076     -0.792      0.429      -0.208       0.088\n",
      "x8             0.0020      0.002      0.958      0.338      -0.002       0.006\n",
      "x9            -0.0273      0.035     -0.789      0.430      -0.095       0.040\n",
      "x10           -0.0002   4.89e-05     -3.106      0.002      -0.000    -5.6e-05\n",
      "x11           -0.0023      0.002     -1.176      0.240      -0.006       0.002\n",
      "==============================================================================\n"
     ]
    }
   ],
   "source": [
    "model = sm.Logit(y, x)\n",
    "result = model.fit()\n",
    "\n",
    "# Imprimir los coeficientes (betas) del modelo\n",
    "print(\"Coeficientes del modelo:\")\n",
    "print(result.params)\n",
    "\n",
    "# Realizar un test de significancia\n",
    "print(\"\\nTest de significancia:\")\n",
    "print(result.summary())"
   ]
  },
  {
   "cell_type": "markdown",
   "id": "04476731",
   "metadata": {},
   "source": [
    "## Modeling"
   ]
  },
  {
   "cell_type": "code",
   "execution_count": 81,
   "id": "c6147c2b",
   "metadata": {},
   "outputs": [],
   "source": [
    "x = datos[['Customer Age','CHI Score 0','CHI Score 0-1','Views 0-1']].values\n",
    "y = datos['Churn'].values"
   ]
  },
  {
   "cell_type": "markdown",
   "id": "dce808db",
   "metadata": {},
   "source": [
    "**PASOS A SEGUIR**\n",
    "\n",
    "Como notamos en muestra matriz de confusión, tenemos desbalanceada la muestra por lo que vamos a utilizar la técnica de SMOTE VALUE para balancear los 1 frente a los 0."
   ]
  },
  {
   "cell_type": "code",
   "execution_count": 82,
   "id": "1ef7ba4b",
   "metadata": {},
   "outputs": [
    {
     "name": "stdout",
     "output_type": "stream",
     "text": [
      "La cantidad de 1 que tenemos en nuestra variable dependiente es: 323\n"
     ]
    }
   ],
   "source": [
    "print('La cantidad de 1 que tenemos en nuestra variable dependiente es:',datos['Churn'].sum())"
   ]
  },
  {
   "cell_type": "markdown",
   "id": "db19872f",
   "metadata": {},
   "source": [
    "$$\\mbox{BALANCEO DE LA MUESTRA - SMOTE VALUE}$$"
   ]
  },
  {
   "cell_type": "code",
   "execution_count": 83,
   "id": "e66cc304",
   "metadata": {},
   "outputs": [],
   "source": [
    "smt = SMOTE()\n",
    "x, y = smt.fit_resample(x, y)"
   ]
  },
  {
   "cell_type": "code",
   "execution_count": 84,
   "id": "c4776c72",
   "metadata": {},
   "outputs": [
    {
     "data": {
      "image/png": "[encoded data removed]",
      "text/plain": [
       "<Figure size 640x480 with 1 Axes>"
      ]
     },
     "metadata": {},
     "output_type": "display_data"
    }
   ],
   "source": [
    "ax = sns.countplot(x=y)"
   ]
  },
  {
   "cell_type": "markdown",
   "id": "f85bd7c0",
   "metadata": {},
   "source": [
    "$$\\mbox{Modelo de regresión Logística}$$"
   ]
  },
  {
   "cell_type": "code",
   "execution_count": 85,
   "id": "1a21d245",
   "metadata": {},
   "outputs": [
    {
     "name": "stdout",
     "output_type": "stream",
     "text": [
      "Exactitud (Accuracy): 66.93%\n",
      "Matriz de Confusión:\n",
      "[[858 345]\n",
      " [452 755]]\n",
      "Informe de Clasificación:\n",
      "              precision    recall  f1-score   support\n",
      "\n",
      "           0       0.65      0.71      0.68      1203\n",
      "           1       0.69      0.63      0.65      1207\n",
      "\n",
      "    accuracy                           0.67      2410\n",
      "   macro avg       0.67      0.67      0.67      2410\n",
      "weighted avg       0.67      0.67      0.67      2410\n",
      "\n"
     ]
    }
   ],
   "source": [
    "X_train, X_test, y_train, y_test = train_test_split(x, y, test_size=0.2, random_state=42)\n",
    "\n",
    "model = LogisticRegression()\n",
    "model.fit(X_train, y_train)\n",
    "\n",
    "# Realizar predicciones en el conjunto de prueba\n",
    "y_pred = model.predict(X_test)\n",
    "\n",
    "# Evaluar el modelo\n",
    "accuracy = accuracy_score(y_test, y_pred)\n",
    "conf_matrix = confusion_matrix(y_test, y_pred)\n",
    "class_report = classification_report(y_test, y_pred)\n",
    "\n",
    "# Imprimir resultados\n",
    "print(\"Exactitud (Accuracy): {:.2f}%\".format(accuracy * 100))\n",
    "print(\"Matriz de Confusión:\")\n",
    "print(conf_matrix)\n",
    "print(\"Informe de Clasificación:\")\n",
    "print(class_report)"
   ]
  },
  {
   "cell_type": "code",
   "execution_count": 86,
   "id": "4d183f62",
   "metadata": {},
   "outputs": [
    {
     "name": "stdout",
     "output_type": "stream",
     "text": [
      "Optimization terminated successfully.\n",
      "         Current function value: 0.663181\n",
      "         Iterations 6\n",
      "\n",
      "Test de significancia:\n",
      "                           Logit Regression Results                           \n",
      "==============================================================================\n",
      "Dep. Variable:                      y   No. Observations:                12048\n",
      "Model:                          Logit   Df Residuals:                    12044\n",
      "Method:                           MLE   Df Model:                            3\n",
      "Date:                Wed, 27 Sep 2023   Pseudo R-squ.:                 0.04323\n",
      "Time:                        22:09:57   Log-Likelihood:                -7990.0\n",
      "converged:                       True   LL-Null:                       -8351.0\n",
      "Covariance Type:            nonrobust   LLR p-value:                3.443e-156\n",
      "==============================================================================\n",
      "                 coef    std err          z      P>|z|      [0.025      0.975]\n",
      "------------------------------------------------------------------------------\n",
      "x1            -0.4634      0.031    -14.817      0.000      -0.525      -0.402\n",
      "x2            -0.0009      0.000     -3.981      0.000      -0.001      -0.000\n",
      "x3            -0.0104      0.001    -14.321      0.000      -0.012      -0.009\n",
      "x4            -0.0001   2.03e-05     -5.906      0.000      -0.000      -8e-05\n",
      "==============================================================================\n"
     ]
    }
   ],
   "source": [
    "model = sm.Logit(y, x)\n",
    "result = model.fit()\n",
    "# Realizar un test de significancia\n",
    "print(\"\\nTest de significancia:\")\n",
    "print(result.summary())"
   ]
  },
  {
   "cell_type": "markdown",
   "id": "083cd123",
   "metadata": {},
   "source": [
    "En comparación con el modelo inicial, notamos que las variables son significativas y estadisticos como el Pseudo R2 es coherente, por otro lado la matriz de confusión, tiene una capacidad de predicción de no abandonar es decir, que la variable independinte tome el valor de Cero, cerca de el 66% de las veces. \n",
    "\n",
    "De la misma manera, el modelo precide el abandonar la suscripción es decir que tome valores iguales a 1 en un 70% de las veces.  "
   ]
  },
  {
   "cell_type": "markdown",
   "id": "14387e68",
   "metadata": {},
   "source": [
    "$$\\mbox{Probabilidad de mantenerse}$$"
   ]
  },
  {
   "cell_type": "code",
   "execution_count": 87,
   "id": "ceb9df3b",
   "metadata": {},
   "outputs": [],
   "source": [
    "proba = result.predict(x)\n",
    "\n",
    "# Crear un nuevo DataFrame con las probabilidades\n",
    "df_probabilidades = pd.DataFrame({'Probabilidad': proba})\n",
    "\n",
    "datos_final = datos[['ID','Churn','Customer Age','CHI Score 0','CHI Score 0-1','Views 0-1']]\n",
    "datos_final['Probabilidad'] = df_probabilidades"
   ]
  },
  {
   "cell_type": "markdown",
   "id": "0b3af41d",
   "metadata": {},
   "source": [
    "$$\\mbox{ANÁLISIS Y RECOMENDACIONES}$$\n",
    "\n",
    "\n",
    "\n",
    "$$P(Y = 1|x) = logit(x'\\beta)$$\n",
    "\n",
    "\n",
    "Dado que el modelo toma la probabilidad de que la variable independiente sea igual a 1, en este caso quedarse y seguir tomando los servicios, vamos utilizar de manera implícita el complemento, es decir establecer un filtro de los que tengan menor probabilidad (menor a 0.4), con el fin de mirar las características de los individuos, y así proponer alternativas para evitar que abandonen los servicios. \n"
   ]
  },
  {
   "cell_type": "code",
   "execution_count": 88,
   "id": "cbf9cd8e",
   "metadata": {},
   "outputs": [],
   "source": [
    "filtro = datos_final['Probabilidad']<0.4\n",
    "df_final = datos_final[filtro]"
   ]
  },
  {
   "cell_type": "code",
   "execution_count": 92,
   "id": "96ff6f62",
   "metadata": {},
   "outputs": [
    {
     "data": {
      "text/html": [
       "<div>\n",
       "<style scoped>\n",
       "    .dataframe tbody tr th:only-of-type {\n",
       "        vertical-align: middle;\n",
       "    }\n",
       "\n",
       "    .dataframe tbody tr th {\n",
       "        vertical-align: top;\n",
       "    }\n",
       "\n",
       "    .dataframe thead th {\n",
       "        text-align: right;\n",
       "    }\n",
       "</style>\n",
       "<table border=\"1\" class=\"dataframe\">\n",
       "  <thead>\n",
       "    <tr style=\"text-align: right;\">\n",
       "      <th></th>\n",
       "      <th>ID</th>\n",
       "      <th>Churn</th>\n",
       "      <th>Customer Age</th>\n",
       "      <th>CHI Score 0</th>\n",
       "      <th>CHI Score 0-1</th>\n",
       "      <th>Views 0-1</th>\n",
       "      <th>Probabilidad</th>\n",
       "    </tr>\n",
       "  </thead>\n",
       "  <tbody>\n",
       "    <tr>\n",
       "      <th>3</th>\n",
       "      <td>4</td>\n",
       "      <td>0</td>\n",
       "      <td>0</td>\n",
       "      <td>231</td>\n",
       "      <td>1</td>\n",
       "      <td>21996</td>\n",
       "      <td>0.054995</td>\n",
       "    </tr>\n",
       "    <tr>\n",
       "      <th>12</th>\n",
       "      <td>13</td>\n",
       "      <td>0</td>\n",
       "      <td>0</td>\n",
       "      <td>215</td>\n",
       "      <td>15</td>\n",
       "      <td>8658</td>\n",
       "      <td>0.201306</td>\n",
       "    </tr>\n",
       "    <tr>\n",
       "      <th>14</th>\n",
       "      <td>15</td>\n",
       "      <td>0</td>\n",
       "      <td>0</td>\n",
       "      <td>118</td>\n",
       "      <td>63</td>\n",
       "      <td>995</td>\n",
       "      <td>0.293890</td>\n",
       "    </tr>\n",
       "    <tr>\n",
       "      <th>27</th>\n",
       "      <td>28</td>\n",
       "      <td>0</td>\n",
       "      <td>0</td>\n",
       "      <td>230</td>\n",
       "      <td>0</td>\n",
       "      <td>13043</td>\n",
       "      <td>0.146770</td>\n",
       "    </tr>\n",
       "    <tr>\n",
       "      <th>33</th>\n",
       "      <td>34</td>\n",
       "      <td>0</td>\n",
       "      <td>0</td>\n",
       "      <td>91</td>\n",
       "      <td>50</td>\n",
       "      <td>0</td>\n",
       "      <td>0.354616</td>\n",
       "    </tr>\n",
       "  </tbody>\n",
       "</table>\n",
       "</div>"
      ],
      "text/plain": [
       "    ID  Churn  Customer Age  CHI Score 0  CHI Score 0-1  Views 0-1  \\\n",
       "3    4      0             0          231              1      21996   \n",
       "12  13      0             0          215             15       8658   \n",
       "14  15      0             0          118             63        995   \n",
       "27  28      0             0          230              0      13043   \n",
       "33  34      0             0           91             50          0   \n",
       "\n",
       "    Probabilidad  \n",
       "3       0.054995  \n",
       "12      0.201306  \n",
       "14      0.293890  \n",
       "27      0.146770  \n",
       "33      0.354616  "
      ]
     },
     "execution_count": 92,
     "metadata": {},
     "output_type": "execute_result"
    }
   ],
   "source": [
    "df_final.head()"
   ]
  },
  {
   "cell_type": "code",
   "execution_count": 91,
   "id": "a664ac6a",
   "metadata": {},
   "outputs": [
    {
     "data": {
      "image/png": "[encoded data removed]",
      "text/plain": [
       "<Figure size 640x480 with 1 Axes>"
      ]
     },
     "metadata": {},
     "output_type": "display_data"
    }
   ],
   "source": [
    "plt.hist(df_final['Customer Age'], bins=30, edgecolor='k') \n",
    "plt.title('Histograma de edad de consumidores (1 si es menor a 14)')\n",
    "plt.xlabel('Valores')\n",
    "plt.ylabel('Frecuencia')\n",
    "plt.show()"
   ]
  },
  {
   "cell_type": "markdown",
   "id": "92272e35",
   "metadata": {},
   "source": [
    "Como podemos analizar, nos debemos centrar en aquellos clientes que tienen una permanecía menor a los 14 meses, dado que el modelo nos muestra que es en esos tiempos de probabilidad de seguir es menor, por lo que las estrategias de atención al cliente deben focalizarse en este grupo poblacional. "
   ]
  },
  {
   "cell_type": "code",
   "execution_count": 94,
   "id": "b50d3c16",
   "metadata": {},
   "outputs": [
    {
     "data": {
      "image/png": "[encoded data removed]",
      "text/plain": [
       "<Figure size 640x480 with 1 Axes>"
      ]
     },
     "metadata": {},
     "output_type": "display_data"
    }
   ],
   "source": [
    "plt.hist(df_final['CHI Score 0'], bins=30, edgecolor='k') \n",
    "plt.title('Histograma del índice de felicidad')\n",
    "plt.xlabel('Valores')\n",
    "plt.ylabel('Frecuencia')\n",
    "plt.show()"
   ]
  },
  {
   "cell_type": "markdown",
   "id": "9450d984",
   "metadata": {},
   "source": [
    "Tal como lo había previsto el CEO, los individuos con menores índices de felicidad son aquellos que tienen una mayor probabilidad de no seguir requiriendo los servicios tecnológicos, dado que no se sienten augustos con los mismos. "
   ]
  }
 ],
 "metadata": {
  "kernelspec": {
   "display_name": "Python 3 (ipykernel)",
   "language": "python",
   "name": "python3"
  },
  "language_info": {
   "codemirror_mode": {
    "name": "ipython",
    "version": 3
   },
   "file_extension": ".py",
   "mimetype": "text/x-python",
   "name": "python",
   "nbconvert_exporter": "python",
   "pygments_lexer": "ipython3",
   "version": "3.9.7"
  }
 },
 "nbformat": 4,
 "nbformat_minor": 5
}
