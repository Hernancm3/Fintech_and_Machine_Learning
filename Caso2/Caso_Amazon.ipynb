{
 "cells": [
  {
   "cell_type": "markdown",
   "id": "5433f7e9",
   "metadata": {},
   "source": [
    "$$\\mbox{CASO AMAZON}$$\n",
    "\n",
    "## Integrantes del equipo:\n",
    "\n",
    "    -Hernan Carmelo Cavadias Martinez\n",
    "    -Duvan Santiago Castro Bolivar \n",
    "    -David Santiago Buitrago Norato\n",
    "    -Miguel Angel Malagón Romero"
   ]
  },
  {
   "cell_type": "code",
   "execution_count": 1,
   "id": "b90d203f",
   "metadata": {},
   "outputs": [],
   "source": [
    "import pandas as pd\n",
    "import numpy as np\n",
    "import matplotlib.pyplot as plt\n",
    "import os\n",
    "import platform\n",
    "import seaborn as sns\n",
    "from sklearn.model_selection import train_test_split\n",
    "from sklearn import linear_model\n",
    "from sklearn.metrics import r2_score, mean_absolute_error, mean_squared_error"
   ]
  },
  {
   "cell_type": "code",
   "execution_count": 2,
   "id": "c93feccd",
   "metadata": {},
   "outputs": [],
   "source": [
    "# Importacion de la base de datos\n",
    "datos = pd.read_excel('DB.xlsx')"
   ]
  },
  {
   "cell_type": "code",
   "execution_count": 3,
   "id": "a32178ae",
   "metadata": {},
   "outputs": [
    {
     "data": {
      "text/html": [
       "<div>\n",
       "<style scoped>\n",
       "    .dataframe tbody tr th:only-of-type {\n",
       "        vertical-align: middle;\n",
       "    }\n",
       "\n",
       "    .dataframe tbody tr th {\n",
       "        vertical-align: top;\n",
       "    }\n",
       "\n",
       "    .dataframe thead th {\n",
       "        text-align: right;\n",
       "    }\n",
       "</style>\n",
       "<table border=\"1\" class=\"dataframe\">\n",
       "  <thead>\n",
       "    <tr style=\"text-align: right;\">\n",
       "      <th></th>\n",
       "      <th>uid</th>\n",
       "      <th>company_v</th>\n",
       "      <th>satis</th>\n",
       "      <th>poverq</th>\n",
       "      <th>soverq</th>\n",
       "      <th>pq</th>\n",
       "      <th>VN_1009_Q20A</th>\n",
       "      <th>VN_1009_TP01</th>\n",
       "      <th>VN_1009_TP02</th>\n",
       "      <th>VN_1009_TP03</th>\n",
       "      <th>...</th>\n",
       "      <th>VN_1009_TP06</th>\n",
       "      <th>VN_1009_TP11</th>\n",
       "      <th>VN_1009_TP12</th>\n",
       "      <th>VN_1009_TP13</th>\n",
       "      <th>VN_1009_TP16</th>\n",
       "      <th>VN_1009_TP17</th>\n",
       "      <th>VN_1009_TP19</th>\n",
       "      <th>VN_1009_TP25A</th>\n",
       "      <th>age</th>\n",
       "      <th>race</th>\n",
       "    </tr>\n",
       "  </thead>\n",
       "  <tbody>\n",
       "    <tr>\n",
       "      <th>0</th>\n",
       "      <td>5</td>\n",
       "      <td>ZALORA</td>\n",
       "      <td>7</td>\n",
       "      <td>9</td>\n",
       "      <td>7</td>\n",
       "      <td>6</td>\n",
       "      <td>8</td>\n",
       "      <td>6</td>\n",
       "      <td>7</td>\n",
       "      <td>6</td>\n",
       "      <td>...</td>\n",
       "      <td>8</td>\n",
       "      <td>7</td>\n",
       "      <td>8</td>\n",
       "      <td>7</td>\n",
       "      <td>9</td>\n",
       "      <td>8</td>\n",
       "      <td>9</td>\n",
       "      <td>2</td>\n",
       "      <td>30</td>\n",
       "      <td>1</td>\n",
       "    </tr>\n",
       "    <tr>\n",
       "      <th>1</th>\n",
       "      <td>11</td>\n",
       "      <td>FAVE</td>\n",
       "      <td>7</td>\n",
       "      <td>7</td>\n",
       "      <td>8</td>\n",
       "      <td>8</td>\n",
       "      <td>8</td>\n",
       "      <td>8</td>\n",
       "      <td>7</td>\n",
       "      <td>7</td>\n",
       "      <td>...</td>\n",
       "      <td>9</td>\n",
       "      <td>8</td>\n",
       "      <td>7</td>\n",
       "      <td>7</td>\n",
       "      <td>7</td>\n",
       "      <td>8</td>\n",
       "      <td>6</td>\n",
       "      <td>3</td>\n",
       "      <td>29</td>\n",
       "      <td>1</td>\n",
       "    </tr>\n",
       "    <tr>\n",
       "      <th>2</th>\n",
       "      <td>15</td>\n",
       "      <td>FAVE</td>\n",
       "      <td>6</td>\n",
       "      <td>6</td>\n",
       "      <td>7</td>\n",
       "      <td>7</td>\n",
       "      <td>7</td>\n",
       "      <td>8</td>\n",
       "      <td>7</td>\n",
       "      <td>6</td>\n",
       "      <td>...</td>\n",
       "      <td>8</td>\n",
       "      <td>7</td>\n",
       "      <td>7</td>\n",
       "      <td>8</td>\n",
       "      <td>7</td>\n",
       "      <td>7</td>\n",
       "      <td>8</td>\n",
       "      <td>1</td>\n",
       "      <td>42</td>\n",
       "      <td>1</td>\n",
       "    </tr>\n",
       "    <tr>\n",
       "      <th>3</th>\n",
       "      <td>19</td>\n",
       "      <td>AMAZON</td>\n",
       "      <td>8</td>\n",
       "      <td>8</td>\n",
       "      <td>8</td>\n",
       "      <td>7</td>\n",
       "      <td>8</td>\n",
       "      <td>9</td>\n",
       "      <td>8</td>\n",
       "      <td>6</td>\n",
       "      <td>...</td>\n",
       "      <td>8</td>\n",
       "      <td>8</td>\n",
       "      <td>8</td>\n",
       "      <td>7</td>\n",
       "      <td>7</td>\n",
       "      <td>7</td>\n",
       "      <td>7</td>\n",
       "      <td>1</td>\n",
       "      <td>30</td>\n",
       "      <td>1</td>\n",
       "    </tr>\n",
       "    <tr>\n",
       "      <th>4</th>\n",
       "      <td>20</td>\n",
       "      <td>QOO10</td>\n",
       "      <td>8</td>\n",
       "      <td>7</td>\n",
       "      <td>6</td>\n",
       "      <td>8</td>\n",
       "      <td>7</td>\n",
       "      <td>8</td>\n",
       "      <td>9</td>\n",
       "      <td>8</td>\n",
       "      <td>...</td>\n",
       "      <td>6</td>\n",
       "      <td>8</td>\n",
       "      <td>7</td>\n",
       "      <td>8</td>\n",
       "      <td>7</td>\n",
       "      <td>8</td>\n",
       "      <td>6</td>\n",
       "      <td>3</td>\n",
       "      <td>43</td>\n",
       "      <td>1</td>\n",
       "    </tr>\n",
       "  </tbody>\n",
       "</table>\n",
       "<p>5 rows × 22 columns</p>\n",
       "</div>"
      ],
      "text/plain": [
       "   uid company_v  satis  poverq  soverq  pq  VN_1009_Q20A  VN_1009_TP01  \\\n",
       "0    5    ZALORA      7       9       7   6             8             6   \n",
       "1   11      FAVE      7       7       8   8             8             8   \n",
       "2   15      FAVE      6       6       7   7             7             8   \n",
       "3   19    AMAZON      8       8       8   7             8             9   \n",
       "4   20     QOO10      8       7       6   8             7             8   \n",
       "\n",
       "   VN_1009_TP02  VN_1009_TP03  ...  VN_1009_TP06  VN_1009_TP11  VN_1009_TP12  \\\n",
       "0             7             6  ...             8             7             8   \n",
       "1             7             7  ...             9             8             7   \n",
       "2             7             6  ...             8             7             7   \n",
       "3             8             6  ...             8             8             8   \n",
       "4             9             8  ...             6             8             7   \n",
       "\n",
       "   VN_1009_TP13  VN_1009_TP16  VN_1009_TP17  VN_1009_TP19  VN_1009_TP25A  age  \\\n",
       "0             7             9             8             9              2   30   \n",
       "1             7             7             8             6              3   29   \n",
       "2             8             7             7             8              1   42   \n",
       "3             7             7             7             7              1   30   \n",
       "4             8             7             8             6              3   43   \n",
       "\n",
       "   race  \n",
       "0     1  \n",
       "1     1  \n",
       "2     1  \n",
       "3     1  \n",
       "4     1  \n",
       "\n",
       "[5 rows x 22 columns]"
      ]
     },
     "execution_count": 3,
     "metadata": {},
     "output_type": "execute_result"
    }
   ],
   "source": [
    "datos.head()"
   ]
  },
  {
   "cell_type": "markdown",
   "id": "080ce5bf",
   "metadata": {},
   "source": [
    "Como medida incial, a través de Excel selecionamos las variables que consideramos perminentes y no redundantes para realizar el modelo, las cuales son:\n",
    "\n",
    "![Nombre Variables](VARIABLE.JPG)\n"
   ]
  },
  {
   "cell_type": "markdown",
   "id": "e38bed6d",
   "metadata": {},
   "source": [
    "## Data Understanding"
   ]
  },
  {
   "cell_type": "markdown",
   "id": "888ea133",
   "metadata": {},
   "source": [
    "Teniendo en cuenta el caso de estudio, queremos conocer que piensan los consumidores sobre las diferentes plataformas de retail, para ser más concretos queremos saber sobre AMAZON, TAOBAO/TMALL y QOO10, dado que son la competencia directa de Amazon. \n",
    "\n",
    "Para mirar el nivel de satisfacción utilizaremos la variable **satis** y como filtro lo haremos por **Raza**  _(1 Chinese, 2 Malay, 3 Indian, 4 Eurasian, 5 Others)_ y **Plataforma**"
   ]
  },
  {
   "cell_type": "markdown",
   "id": "c4463ed7",
   "metadata": {},
   "source": [
    "$$\\mbox{Histogramas de nivel de satisfacción del cliente para AMAZON, TAOBAO y QOO10 en China}$$"
   ]
  },
  {
   "cell_type": "code",
   "execution_count": 4,
   "id": "8cd80341",
   "metadata": {},
   "outputs": [],
   "source": [
    "# Filtro por empresa y región China\n",
    "filtro1 = (datos['company_v'] == 'AMAZON') & (datos['race'] == 1)\n",
    "datos_filtrados1 = datos[filtro1]\n",
    "\n",
    "filtro2 = (datos['company_v'] == 'TAOBAO/TMALL') & (datos['race'] == 1)\n",
    "datos_filtrados2 = datos[filtro2]\n",
    "\n",
    "filtro3 = (datos['company_v'] == 'QOO10') & (datos['race'] == 1)\n",
    "datos_filtrados3 = datos[filtro3]"
   ]
  },
  {
   "cell_type": "code",
   "execution_count": 5,
   "id": "8cfb6434",
   "metadata": {
    "scrolled": true
   },
   "outputs": [
    {
     "data": {
      "image/png": "[encoded data removed]",
      "text/plain": [
       "<Figure size 1500x500 with 3 Axes>"
      ]
     },
     "metadata": {},
     "output_type": "display_data"
    }
   ],
   "source": [
    "var = \"satis\"\n",
    "fig, axs = plt.subplots(1, 3, figsize=(15, 5))  # 1 fila, 3 columnas\n",
    "\n",
    "# Histograma para df1\n",
    "axs[0].hist(datos_filtrados1[var], bins=10, color='orange', edgecolor='black')\n",
    "axs[0].set_title(f'Histograma de {var} para Amazon en China')\n",
    "axs[0].set_xlabel('Valor')\n",
    "axs[0].set_ylabel('Frecuencia')\n",
    "\n",
    "# Histograma para df2\n",
    "axs[1].hist(datos_filtrados2[var], bins=10, color='green', edgecolor='black')\n",
    "axs[1].set_title(f'Histograma de {var} para Taobao en China')\n",
    "axs[1].set_xlabel('Valor')\n",
    "axs[1].set_ylabel('Frecuencia')\n",
    "\n",
    "# Histograma para df3\n",
    "axs[2].hist(datos_filtrados2[var], bins=10, color='purple', edgecolor='black')\n",
    "axs[2].set_title(f'Histograma de {var} para QOO10 en China')\n",
    "axs[2].set_xlabel('Valor')\n",
    "axs[2].set_ylabel('Frecuencia')\n",
    "\n",
    "# Ajusta el espaciado entre los subplots\n",
    "plt.tight_layout()\n",
    "\n",
    "# Muestra la figura con los tres histogramas\n",
    "plt.show()"
   ]
  },
  {
   "cell_type": "markdown",
   "id": "56aa4e27",
   "metadata": {},
   "source": [
    "Como podemos ver el nivel de satisfacción de los clientes en China, es usperior para las liendas Tobao y QOO10, cabe aclarar para el lector que cuando se hizo el filtro la cantidad de observaciones entre dataframes no es el mismo."
   ]
  },
  {
   "cell_type": "markdown",
   "id": "6ce78858",
   "metadata": {},
   "source": [
    "$$\\mbox{Histogramas de nivel de variedad de productos para AMAZON, TAOBAO y QOO10 en China}$$"
   ]
  },
  {
   "cell_type": "code",
   "execution_count": 6,
   "id": "c85e24b1",
   "metadata": {},
   "outputs": [
    {
     "data": {
      "image/png": "[encoded data removed]",
      "text/plain": [
       "<Figure size 1500x500 with 3 Axes>"
      ]
     },
     "metadata": {},
     "output_type": "display_data"
    }
   ],
   "source": [
    "var = \"VN_1009_TP01\"\n",
    "fig, axs = plt.subplots(1, 3, figsize=(15, 5))  # 1 fila, 3 columnas\n",
    "\n",
    "# Histograma para df1\n",
    "axs[0].hist(datos_filtrados1[var], bins=10, color='orange', edgecolor='black')\n",
    "axs[0].set_title(f'Histograma de {var} para Amazon en China')\n",
    "axs[0].set_xlabel('Valor')\n",
    "axs[0].set_ylabel('Frecuencia')\n",
    "\n",
    "# Histograma para df2\n",
    "axs[1].hist(datos_filtrados2[var], bins=10, color='green', edgecolor='black')\n",
    "axs[1].set_title(f'Histograma de {var} para Taobao en China')\n",
    "axs[1].set_xlabel('Valor')\n",
    "axs[1].set_ylabel('Frecuencia')\n",
    "\n",
    "# Histograma para df3\n",
    "axs[2].hist(datos_filtrados2[var], bins=10, color='purple', edgecolor='black')\n",
    "axs[2].set_title(f'Histograma de {var} para QOO10 en China')\n",
    "axs[2].set_xlabel('Valor')\n",
    "axs[2].set_ylabel('Frecuencia')\n",
    "\n",
    "# Ajusta el espaciado entre los subplots\n",
    "plt.tight_layout()\n",
    "\n",
    "# Muestra la figura con los tres histogramas\n",
    "plt.show()"
   ]
  },
  {
   "cell_type": "markdown",
   "id": "1dad4e9a",
   "metadata": {},
   "source": [
    "$$\\mbox{Histogramas de la satifacción por calidad del producto para AMAZON, TAOBAO y QOO10 en China}$$"
   ]
  },
  {
   "cell_type": "code",
   "execution_count": 7,
   "id": "e34043e2",
   "metadata": {},
   "outputs": [
    {
     "data": {
      "image/png": "[encoded data removed]",
      "text/plain": [
       "<Figure size 1500x500 with 3 Axes>"
      ]
     },
     "metadata": {},
     "output_type": "display_data"
    }
   ],
   "source": [
    "var = \"poverq\"\n",
    "fig, axs = plt.subplots(1, 3, figsize=(15, 5))  # 1 fila, 3 columnas\n",
    "\n",
    "# Histograma para df1\n",
    "axs[0].hist(datos_filtrados1[var], bins=10, color='orange', edgecolor='black')\n",
    "axs[0].set_title(f'Histograma de {var} para Amazon en China')\n",
    "axs[0].set_xlabel('Valor')\n",
    "axs[0].set_ylabel('Frecuencia')\n",
    "\n",
    "# Histograma para df2\n",
    "axs[1].hist(datos_filtrados2[var], bins=10, color='green', edgecolor='black')\n",
    "axs[1].set_title(f'Histograma de {var} para Taobao en China')\n",
    "axs[1].set_xlabel('Valor')\n",
    "axs[1].set_ylabel('Frecuencia')\n",
    "\n",
    "# Histograma para df3\n",
    "axs[2].hist(datos_filtrados2[var], bins=10, color='purple', edgecolor='black')\n",
    "axs[2].set_title(f'Histograma de {var} para QOO10 en China')\n",
    "axs[2].set_xlabel('Valor')\n",
    "axs[2].set_ylabel('Frecuencia')\n",
    "\n",
    "# Ajusta el espaciado entre los subplots\n",
    "plt.tight_layout()\n",
    "\n",
    "# Muestra la figura con los tres histogramas\n",
    "plt.show()"
   ]
  },
  {
   "cell_type": "markdown",
   "id": "7368786e",
   "metadata": {},
   "source": [
    "Como podemos notar las plataformas Taobao y QOO10 tienen dominancia en satisfacción del cliente en cuanto a calidad y variedad de productos que se pueden encontrar en dichos sitios, notando así que el problema de Amazon en singapur, ubicado en China es un tema más de preferencias de los consumidores."
   ]
  },
  {
   "cell_type": "markdown",
   "id": "d5eefa0b",
   "metadata": {},
   "source": [
    "## Data Preparation"
   ]
  },
  {
   "cell_type": "code",
   "execution_count": 8,
   "id": "d6fc37d1",
   "metadata": {},
   "outputs": [
    {
     "data": {
      "text/html": [
       "<div>\n",
       "<style scoped>\n",
       "    .dataframe tbody tr th:only-of-type {\n",
       "        vertical-align: middle;\n",
       "    }\n",
       "\n",
       "    .dataframe tbody tr th {\n",
       "        vertical-align: top;\n",
       "    }\n",
       "\n",
       "    .dataframe thead th {\n",
       "        text-align: right;\n",
       "    }\n",
       "</style>\n",
       "<table border=\"1\" class=\"dataframe\">\n",
       "  <thead>\n",
       "    <tr style=\"text-align: right;\">\n",
       "      <th></th>\n",
       "      <th>count</th>\n",
       "      <th>mean</th>\n",
       "      <th>std</th>\n",
       "      <th>min</th>\n",
       "      <th>25%</th>\n",
       "      <th>50%</th>\n",
       "      <th>75%</th>\n",
       "      <th>max</th>\n",
       "    </tr>\n",
       "  </thead>\n",
       "  <tbody>\n",
       "    <tr>\n",
       "      <th>uid</th>\n",
       "      <td>1600.0</td>\n",
       "      <td>2948.575000</td>\n",
       "      <td>1717.270229</td>\n",
       "      <td>5.0</td>\n",
       "      <td>1478.5</td>\n",
       "      <td>2877.0</td>\n",
       "      <td>4395.5</td>\n",
       "      <td>6087.0</td>\n",
       "    </tr>\n",
       "    <tr>\n",
       "      <th>satis</th>\n",
       "      <td>1600.0</td>\n",
       "      <td>7.575625</td>\n",
       "      <td>1.192233</td>\n",
       "      <td>2.0</td>\n",
       "      <td>7.0</td>\n",
       "      <td>8.0</td>\n",
       "      <td>8.0</td>\n",
       "      <td>10.0</td>\n",
       "    </tr>\n",
       "    <tr>\n",
       "      <th>poverq</th>\n",
       "      <td>1600.0</td>\n",
       "      <td>7.573750</td>\n",
       "      <td>1.362248</td>\n",
       "      <td>2.0</td>\n",
       "      <td>7.0</td>\n",
       "      <td>8.0</td>\n",
       "      <td>8.0</td>\n",
       "      <td>10.0</td>\n",
       "    </tr>\n",
       "    <tr>\n",
       "      <th>soverq</th>\n",
       "      <td>1600.0</td>\n",
       "      <td>7.548750</td>\n",
       "      <td>1.314802</td>\n",
       "      <td>2.0</td>\n",
       "      <td>7.0</td>\n",
       "      <td>8.0</td>\n",
       "      <td>8.0</td>\n",
       "      <td>10.0</td>\n",
       "    </tr>\n",
       "    <tr>\n",
       "      <th>pq</th>\n",
       "      <td>1600.0</td>\n",
       "      <td>7.573125</td>\n",
       "      <td>1.363200</td>\n",
       "      <td>2.0</td>\n",
       "      <td>7.0</td>\n",
       "      <td>8.0</td>\n",
       "      <td>8.0</td>\n",
       "      <td>10.0</td>\n",
       "    </tr>\n",
       "    <tr>\n",
       "      <th>VN_1009_Q20A</th>\n",
       "      <td>1600.0</td>\n",
       "      <td>7.669375</td>\n",
       "      <td>1.243897</td>\n",
       "      <td>2.0</td>\n",
       "      <td>7.0</td>\n",
       "      <td>8.0</td>\n",
       "      <td>8.0</td>\n",
       "      <td>10.0</td>\n",
       "    </tr>\n",
       "    <tr>\n",
       "      <th>VN_1009_TP01</th>\n",
       "      <td>1600.0</td>\n",
       "      <td>7.858125</td>\n",
       "      <td>1.046987</td>\n",
       "      <td>3.0</td>\n",
       "      <td>7.0</td>\n",
       "      <td>8.0</td>\n",
       "      <td>9.0</td>\n",
       "      <td>10.0</td>\n",
       "    </tr>\n",
       "    <tr>\n",
       "      <th>VN_1009_TP02</th>\n",
       "      <td>1600.0</td>\n",
       "      <td>7.596250</td>\n",
       "      <td>1.267573</td>\n",
       "      <td>2.0</td>\n",
       "      <td>7.0</td>\n",
       "      <td>8.0</td>\n",
       "      <td>9.0</td>\n",
       "      <td>10.0</td>\n",
       "    </tr>\n",
       "    <tr>\n",
       "      <th>VN_1009_TP03</th>\n",
       "      <td>1600.0</td>\n",
       "      <td>7.631875</td>\n",
       "      <td>1.199900</td>\n",
       "      <td>2.0</td>\n",
       "      <td>7.0</td>\n",
       "      <td>8.0</td>\n",
       "      <td>8.0</td>\n",
       "      <td>10.0</td>\n",
       "    </tr>\n",
       "    <tr>\n",
       "      <th>VN_1009_TP04</th>\n",
       "      <td>1600.0</td>\n",
       "      <td>7.742500</td>\n",
       "      <td>1.179327</td>\n",
       "      <td>2.0</td>\n",
       "      <td>7.0</td>\n",
       "      <td>8.0</td>\n",
       "      <td>9.0</td>\n",
       "      <td>10.0</td>\n",
       "    </tr>\n",
       "    <tr>\n",
       "      <th>VN_1009_TP05</th>\n",
       "      <td>1600.0</td>\n",
       "      <td>7.711250</td>\n",
       "      <td>1.153779</td>\n",
       "      <td>2.0</td>\n",
       "      <td>7.0</td>\n",
       "      <td>8.0</td>\n",
       "      <td>8.0</td>\n",
       "      <td>10.0</td>\n",
       "    </tr>\n",
       "    <tr>\n",
       "      <th>VN_1009_TP06</th>\n",
       "      <td>1600.0</td>\n",
       "      <td>7.760625</td>\n",
       "      <td>1.361335</td>\n",
       "      <td>2.0</td>\n",
       "      <td>7.0</td>\n",
       "      <td>8.0</td>\n",
       "      <td>9.0</td>\n",
       "      <td>10.0</td>\n",
       "    </tr>\n",
       "    <tr>\n",
       "      <th>VN_1009_TP11</th>\n",
       "      <td>1600.0</td>\n",
       "      <td>7.698125</td>\n",
       "      <td>1.141407</td>\n",
       "      <td>2.0</td>\n",
       "      <td>7.0</td>\n",
       "      <td>8.0</td>\n",
       "      <td>8.0</td>\n",
       "      <td>10.0</td>\n",
       "    </tr>\n",
       "    <tr>\n",
       "      <th>VN_1009_TP12</th>\n",
       "      <td>1600.0</td>\n",
       "      <td>7.831875</td>\n",
       "      <td>1.185110</td>\n",
       "      <td>3.0</td>\n",
       "      <td>7.0</td>\n",
       "      <td>8.0</td>\n",
       "      <td>9.0</td>\n",
       "      <td>10.0</td>\n",
       "    </tr>\n",
       "    <tr>\n",
       "      <th>VN_1009_TP13</th>\n",
       "      <td>1600.0</td>\n",
       "      <td>7.943125</td>\n",
       "      <td>5.595262</td>\n",
       "      <td>2.0</td>\n",
       "      <td>7.0</td>\n",
       "      <td>8.0</td>\n",
       "      <td>8.0</td>\n",
       "      <td>97.0</td>\n",
       "    </tr>\n",
       "    <tr>\n",
       "      <th>VN_1009_TP16</th>\n",
       "      <td>1600.0</td>\n",
       "      <td>7.788750</td>\n",
       "      <td>2.554056</td>\n",
       "      <td>2.0</td>\n",
       "      <td>7.0</td>\n",
       "      <td>8.0</td>\n",
       "      <td>9.0</td>\n",
       "      <td>97.0</td>\n",
       "    </tr>\n",
       "    <tr>\n",
       "      <th>VN_1009_TP17</th>\n",
       "      <td>1600.0</td>\n",
       "      <td>7.850000</td>\n",
       "      <td>1.282489</td>\n",
       "      <td>2.0</td>\n",
       "      <td>7.0</td>\n",
       "      <td>8.0</td>\n",
       "      <td>9.0</td>\n",
       "      <td>10.0</td>\n",
       "    </tr>\n",
       "    <tr>\n",
       "      <th>VN_1009_TP19</th>\n",
       "      <td>1600.0</td>\n",
       "      <td>23.423125</td>\n",
       "      <td>34.356340</td>\n",
       "      <td>1.0</td>\n",
       "      <td>7.0</td>\n",
       "      <td>8.0</td>\n",
       "      <td>9.0</td>\n",
       "      <td>97.0</td>\n",
       "    </tr>\n",
       "    <tr>\n",
       "      <th>VN_1009_TP25A</th>\n",
       "      <td>1600.0</td>\n",
       "      <td>2.232500</td>\n",
       "      <td>0.792203</td>\n",
       "      <td>1.0</td>\n",
       "      <td>2.0</td>\n",
       "      <td>2.0</td>\n",
       "      <td>3.0</td>\n",
       "      <td>3.0</td>\n",
       "    </tr>\n",
       "    <tr>\n",
       "      <th>age</th>\n",
       "      <td>1600.0</td>\n",
       "      <td>35.349375</td>\n",
       "      <td>8.463796</td>\n",
       "      <td>18.0</td>\n",
       "      <td>29.0</td>\n",
       "      <td>34.0</td>\n",
       "      <td>42.0</td>\n",
       "      <td>66.0</td>\n",
       "    </tr>\n",
       "    <tr>\n",
       "      <th>race</th>\n",
       "      <td>1600.0</td>\n",
       "      <td>1.413750</td>\n",
       "      <td>0.928359</td>\n",
       "      <td>1.0</td>\n",
       "      <td>1.0</td>\n",
       "      <td>1.0</td>\n",
       "      <td>1.0</td>\n",
       "      <td>5.0</td>\n",
       "    </tr>\n",
       "  </tbody>\n",
       "</table>\n",
       "</div>"
      ],
      "text/plain": [
       "                count         mean          std   min     25%     50%     75%  \\\n",
       "uid            1600.0  2948.575000  1717.270229   5.0  1478.5  2877.0  4395.5   \n",
       "satis          1600.0     7.575625     1.192233   2.0     7.0     8.0     8.0   \n",
       "poverq         1600.0     7.573750     1.362248   2.0     7.0     8.0     8.0   \n",
       "soverq         1600.0     7.548750     1.314802   2.0     7.0     8.0     8.0   \n",
       "pq             1600.0     7.573125     1.363200   2.0     7.0     8.0     8.0   \n",
       "VN_1009_Q20A   1600.0     7.669375     1.243897   2.0     7.0     8.0     8.0   \n",
       "VN_1009_TP01   1600.0     7.858125     1.046987   3.0     7.0     8.0     9.0   \n",
       "VN_1009_TP02   1600.0     7.596250     1.267573   2.0     7.0     8.0     9.0   \n",
       "VN_1009_TP03   1600.0     7.631875     1.199900   2.0     7.0     8.0     8.0   \n",
       "VN_1009_TP04   1600.0     7.742500     1.179327   2.0     7.0     8.0     9.0   \n",
       "VN_1009_TP05   1600.0     7.711250     1.153779   2.0     7.0     8.0     8.0   \n",
       "VN_1009_TP06   1600.0     7.760625     1.361335   2.0     7.0     8.0     9.0   \n",
       "VN_1009_TP11   1600.0     7.698125     1.141407   2.0     7.0     8.0     8.0   \n",
       "VN_1009_TP12   1600.0     7.831875     1.185110   3.0     7.0     8.0     9.0   \n",
       "VN_1009_TP13   1600.0     7.943125     5.595262   2.0     7.0     8.0     8.0   \n",
       "VN_1009_TP16   1600.0     7.788750     2.554056   2.0     7.0     8.0     9.0   \n",
       "VN_1009_TP17   1600.0     7.850000     1.282489   2.0     7.0     8.0     9.0   \n",
       "VN_1009_TP19   1600.0    23.423125    34.356340   1.0     7.0     8.0     9.0   \n",
       "VN_1009_TP25A  1600.0     2.232500     0.792203   1.0     2.0     2.0     3.0   \n",
       "age            1600.0    35.349375     8.463796  18.0    29.0    34.0    42.0   \n",
       "race           1600.0     1.413750     0.928359   1.0     1.0     1.0     1.0   \n",
       "\n",
       "                  max  \n",
       "uid            6087.0  \n",
       "satis            10.0  \n",
       "poverq           10.0  \n",
       "soverq           10.0  \n",
       "pq               10.0  \n",
       "VN_1009_Q20A     10.0  \n",
       "VN_1009_TP01     10.0  \n",
       "VN_1009_TP02     10.0  \n",
       "VN_1009_TP03     10.0  \n",
       "VN_1009_TP04     10.0  \n",
       "VN_1009_TP05     10.0  \n",
       "VN_1009_TP06     10.0  \n",
       "VN_1009_TP11     10.0  \n",
       "VN_1009_TP12     10.0  \n",
       "VN_1009_TP13     97.0  \n",
       "VN_1009_TP16     97.0  \n",
       "VN_1009_TP17     10.0  \n",
       "VN_1009_TP19     97.0  \n",
       "VN_1009_TP25A     3.0  \n",
       "age              66.0  \n",
       "race              5.0  "
      ]
     },
     "execution_count": 8,
     "metadata": {},
     "output_type": "execute_result"
    }
   ],
   "source": [
    "datos.describe().T"
   ]
  },
  {
   "cell_type": "markdown",
   "id": "e41064f5",
   "metadata": {},
   "source": [
    "Como podemos ver la mayoría de las variables son categóricas las cuales se encuentran entre 1 y 10, notamos que en algunas variables tenemos observaciones que registran un 97, direccionándonos al diccionario de la base de datos, notamos que hace parte de las observaciones en donde los encuestados no saben/ no responden. \n",
    "\n",
    "Para tratar dichas observaciones vamos a hacer un conteo del total de observaciones que presentan dichas problemáticas, para analizar el eliminarlas o no del modelo. \n",
    " "
   ]
  },
  {
   "cell_type": "code",
   "execution_count": 9,
   "id": "72d3aecd",
   "metadata": {},
   "outputs": [
    {
     "data": {
      "text/plain": [
       "True     1311\n",
       "False     289\n",
       "dtype: int64"
      ]
     },
     "execution_count": 9,
     "metadata": {},
     "output_type": "execute_result"
    }
   ],
   "source": [
    "(datos != 97).all(axis=1).value_counts()"
   ]
  },
  {
   "cell_type": "markdown",
   "id": "2e585ea6",
   "metadata": {},
   "source": [
    "Como vemos notamos que hay 289 observaciones que presentan estas problematicas, con el fin de no afectar nuestro modelo lo vamos a borrar. "
   ]
  },
  {
   "cell_type": "code",
   "execution_count": 10,
   "id": "d0c5d7a8",
   "metadata": {},
   "outputs": [
    {
     "data": {
      "text/plain": [
       "(1311, 22)"
      ]
     },
     "execution_count": 10,
     "metadata": {},
     "output_type": "execute_result"
    }
   ],
   "source": [
    "filtro = (datos[datos.columns[5:]]!=97)\n",
    "datos2 = datos[filtro]\n",
    "datos2.update(datos.iloc[:, 0:5])\n",
    "datos2.dropna(axis=0,inplace=True)\n",
    "datos2.reset_index(drop=True, inplace=True)\n",
    "datos2.shape"
   ]
  },
  {
   "cell_type": "markdown",
   "id": "0b8dfbc3",
   "metadata": {},
   "source": [
    "Corregido el error, vamos volver categorica la variable de étinia a través de Dummis."
   ]
  },
  {
   "cell_type": "code",
   "execution_count": 11,
   "id": "a47349c5",
   "metadata": {},
   "outputs": [],
   "source": [
    "etnia = {1:\"Chinese\", 2:\"Malay\", 3:\"Indian\", 4:\"Eurasian\", 5:\"Others\"}\n",
    "for valor, nv in etnia.items():\n",
    "    datos2['race'] = datos2['race'].replace(valor, nv)"
   ]
  },
  {
   "cell_type": "code",
   "execution_count": 12,
   "id": "30898b06",
   "metadata": {},
   "outputs": [
    {
     "data": {
      "text/html": [
       "<div>\n",
       "<style scoped>\n",
       "    .dataframe tbody tr th:only-of-type {\n",
       "        vertical-align: middle;\n",
       "    }\n",
       "\n",
       "    .dataframe tbody tr th {\n",
       "        vertical-align: top;\n",
       "    }\n",
       "\n",
       "    .dataframe thead th {\n",
       "        text-align: right;\n",
       "    }\n",
       "</style>\n",
       "<table border=\"1\" class=\"dataframe\">\n",
       "  <thead>\n",
       "    <tr style=\"text-align: right;\">\n",
       "      <th></th>\n",
       "      <th>uid</th>\n",
       "      <th>company_v</th>\n",
       "      <th>satis</th>\n",
       "      <th>poverq</th>\n",
       "      <th>soverq</th>\n",
       "      <th>pq</th>\n",
       "      <th>VN_1009_Q20A</th>\n",
       "      <th>VN_1009_TP01</th>\n",
       "      <th>VN_1009_TP02</th>\n",
       "      <th>VN_1009_TP03</th>\n",
       "      <th>...</th>\n",
       "      <th>VN_1009_TP16</th>\n",
       "      <th>VN_1009_TP17</th>\n",
       "      <th>VN_1009_TP19</th>\n",
       "      <th>VN_1009_TP25A</th>\n",
       "      <th>age</th>\n",
       "      <th>Chinese</th>\n",
       "      <th>Eurasian</th>\n",
       "      <th>Indian</th>\n",
       "      <th>Malay</th>\n",
       "      <th>Others</th>\n",
       "    </tr>\n",
       "  </thead>\n",
       "  <tbody>\n",
       "    <tr>\n",
       "      <th>0</th>\n",
       "      <td>5.0</td>\n",
       "      <td>ZALORA</td>\n",
       "      <td>7.0</td>\n",
       "      <td>9.0</td>\n",
       "      <td>7.0</td>\n",
       "      <td>6</td>\n",
       "      <td>8</td>\n",
       "      <td>6</td>\n",
       "      <td>7</td>\n",
       "      <td>6</td>\n",
       "      <td>...</td>\n",
       "      <td>9.0</td>\n",
       "      <td>8</td>\n",
       "      <td>9.0</td>\n",
       "      <td>1</td>\n",
       "      <td>30</td>\n",
       "      <td>1</td>\n",
       "      <td>0</td>\n",
       "      <td>0</td>\n",
       "      <td>0</td>\n",
       "      <td>0</td>\n",
       "    </tr>\n",
       "    <tr>\n",
       "      <th>1</th>\n",
       "      <td>11.0</td>\n",
       "      <td>FAVE</td>\n",
       "      <td>7.0</td>\n",
       "      <td>7.0</td>\n",
       "      <td>8.0</td>\n",
       "      <td>8</td>\n",
       "      <td>8</td>\n",
       "      <td>8</td>\n",
       "      <td>7</td>\n",
       "      <td>7</td>\n",
       "      <td>...</td>\n",
       "      <td>7.0</td>\n",
       "      <td>8</td>\n",
       "      <td>6.0</td>\n",
       "      <td>0</td>\n",
       "      <td>29</td>\n",
       "      <td>1</td>\n",
       "      <td>0</td>\n",
       "      <td>0</td>\n",
       "      <td>0</td>\n",
       "      <td>0</td>\n",
       "    </tr>\n",
       "    <tr>\n",
       "      <th>2</th>\n",
       "      <td>15.0</td>\n",
       "      <td>FAVE</td>\n",
       "      <td>6.0</td>\n",
       "      <td>6.0</td>\n",
       "      <td>7.0</td>\n",
       "      <td>7</td>\n",
       "      <td>7</td>\n",
       "      <td>8</td>\n",
       "      <td>7</td>\n",
       "      <td>6</td>\n",
       "      <td>...</td>\n",
       "      <td>7.0</td>\n",
       "      <td>7</td>\n",
       "      <td>8.0</td>\n",
       "      <td>0</td>\n",
       "      <td>42</td>\n",
       "      <td>1</td>\n",
       "      <td>0</td>\n",
       "      <td>0</td>\n",
       "      <td>0</td>\n",
       "      <td>0</td>\n",
       "    </tr>\n",
       "  </tbody>\n",
       "</table>\n",
       "<p>3 rows × 26 columns</p>\n",
       "</div>"
      ],
      "text/plain": [
       "    uid company_v  satis  poverq  soverq  pq  VN_1009_Q20A  VN_1009_TP01  \\\n",
       "0   5.0    ZALORA    7.0     9.0     7.0   6             8             6   \n",
       "1  11.0      FAVE    7.0     7.0     8.0   8             8             8   \n",
       "2  15.0      FAVE    6.0     6.0     7.0   7             7             8   \n",
       "\n",
       "   VN_1009_TP02  VN_1009_TP03  ...  VN_1009_TP16  VN_1009_TP17  VN_1009_TP19  \\\n",
       "0             7             6  ...           9.0             8           9.0   \n",
       "1             7             7  ...           7.0             8           6.0   \n",
       "2             7             6  ...           7.0             7           8.0   \n",
       "\n",
       "   VN_1009_TP25A  age  Chinese  Eurasian  Indian  Malay  Others  \n",
       "0              1   30        1         0       0      0       0  \n",
       "1              0   29        1         0       0      0       0  \n",
       "2              0   42        1         0       0      0       0  \n",
       "\n",
       "[3 rows x 26 columns]"
      ]
     },
     "execution_count": 12,
     "metadata": {},
     "output_type": "execute_result"
    }
   ],
   "source": [
    "df_dummi = pd.get_dummies(datos2['race'],prefix_sep ='_',drop_first=True)\n",
    "datos2 = pd.concat([datos2, df_dummi], axis=1)\n",
    "datos2.rename(columns={'race':\"Chinese\"}, inplace=True)\n",
    "datos2['Chinese'] = datos2['Chinese'].apply(lambda x: 1 if x == 'Chinese' else 0) # remplaza por 1 y 0\n",
    "datos2['VN_1009_TP25A'] = datos2['VN_1009_TP25A'].apply(lambda x: 1 if x == 2 else 0) # Tipo de tienda (virtual)\n",
    "datos2.head(3)"
   ]
  },
  {
   "cell_type": "markdown",
   "id": "e17f4cc3",
   "metadata": {},
   "source": [
    "## Modelación"
   ]
  },
  {
   "cell_type": "markdown",
   "id": "051ee898",
   "metadata": {},
   "source": [
    "Vamos a empezar con un modelo para Amazon"
   ]
  },
  {
   "cell_type": "code",
   "execution_count": 13,
   "id": "2f626910",
   "metadata": {},
   "outputs": [],
   "source": [
    "amazon = datos2['company_v']=='AMAZON'\n",
    "amazon =datos2[amazon]"
   ]
  },
  {
   "cell_type": "markdown",
   "id": "7222a931",
   "metadata": {},
   "source": [
    "### Entrenamiento del modelo"
   ]
  },
  {
   "cell_type": "code",
   "execution_count": 14,
   "id": "c8b65e47",
   "metadata": {},
   "outputs": [],
   "source": [
    "x = amazon[amazon.columns[3:]].values\n",
    "y = amazon['satis'].values"
   ]
  },
  {
   "cell_type": "code",
   "execution_count": 15,
   "id": "0e577fe6",
   "metadata": {},
   "outputs": [],
   "source": [
    "X_train, X_test, y_train, y_test = train_test_split(x, y, test_size=0.3, random_state=42)"
   ]
  },
  {
   "cell_type": "markdown",
   "id": "f0b92218",
   "metadata": {},
   "source": [
    "### Crear un modelo de regresión multilineallineal"
   ]
  },
  {
   "cell_type": "code",
   "execution_count": 16,
   "id": "92d5f9f3",
   "metadata": {},
   "outputs": [],
   "source": [
    "modelo = linear_model.LinearRegression().fit(X_train, y_train)\n",
    "y_esti= modelo.predict(X_test)"
   ]
  },
  {
   "cell_type": "markdown",
   "id": "1fa63165",
   "metadata": {},
   "source": [
    "### Validación del modelo"
   ]
  },
  {
   "cell_type": "code",
   "execution_count": 17,
   "id": "13f45813",
   "metadata": {},
   "outputs": [
    {
     "name": "stdout",
     "output_type": "stream",
     "text": [
      "Coeficiente de determinación R2: 0.87\n"
     ]
    }
   ],
   "source": [
    "r2 = r2_score(y_test, y_esti)\n",
    "print(f\"Coeficiente de determinación R2: {r2:.2f}\")"
   ]
  },
  {
   "cell_type": "markdown",
   "id": "715d5b1c",
   "metadata": {},
   "source": [
    "### calcular los errores del modelo"
   ]
  },
  {
   "cell_type": "code",
   "execution_count": 18,
   "id": "aaebec60",
   "metadata": {},
   "outputs": [
    {
     "name": "stdout",
     "output_type": "stream",
     "text": [
      "Error promedio - Regresion Multilineal: 0.387\n",
      "Error MSE - Regresion Multilineal: 0.251\n"
     ]
    }
   ],
   "source": [
    "print('Error promedio - Regresion Multilineal:', round(mean_absolute_error(y_test, y_esti),3))\n",
    "print('Error MSE - Regresion Multilineal:', round(mean_squared_error(y_test, y_esti),3))"
   ]
  },
  {
   "cell_type": "code",
   "execution_count": 19,
   "id": "2f131dba",
   "metadata": {},
   "outputs": [
    {
     "name": "stdout",
     "output_type": "stream",
     "text": [
      "coeficiente:poverq: 0.096\n",
      "coeficiente:soverq: 0.067\n",
      "coeficiente:pq: 0.076\n",
      "coeficiente:VN_1009_Q20A: 0.618\n",
      "coeficiente:VN_1009_TP01: -0.003\n",
      "coeficiente:VN_1009_TP02: 0.002\n",
      "coeficiente:VN_1009_TP03: -0.063\n",
      "coeficiente:VN_1009_TP04: 0.024\n",
      "coeficiente:VN_1009_TP05: 0.117\n",
      "coeficiente:VN_1009_TP06: 0.057\n",
      "coeficiente:VN_1009_TP11: 0.071\n",
      "coeficiente:VN_1009_TP12: 0.022\n",
      "coeficiente:VN_1009_TP13: 0.077\n",
      "coeficiente:VN_1009_TP16: -0.012\n",
      "coeficiente:VN_1009_TP17: -0.016\n",
      "coeficiente:VN_1009_TP19: 0.003\n",
      "coeficiente:VN_1009_TP25A: 0.069\n",
      "coeficiente:age: 0.003\n",
      "coeficiente:Chinese: 0.055\n",
      "coeficiente:Eurasian: 0.0\n",
      "coeficiente:Indian: -0.024\n",
      "coeficiente:Malay: 0.082\n",
      "coeficiente:Others: -0.113\n"
     ]
    }
   ],
   "source": [
    "colum = datos2.columns[3:]\n",
    "for i in range(0,23):\n",
    "    print(f'coeficiente:{colum[i]}:',round(modelo.coef_[i],3))"
   ]
  },
  {
   "cell_type": "markdown",
   "id": "2e8f4759",
   "metadata": {},
   "source": [
    "## Taobao "
   ]
  },
  {
   "cell_type": "code",
   "execution_count": 20,
   "id": "cea88cb2",
   "metadata": {},
   "outputs": [
    {
     "data": {
      "text/plain": [
       "(164, 26)"
      ]
     },
     "execution_count": 20,
     "metadata": {},
     "output_type": "execute_result"
    }
   ],
   "source": [
    "taobao = datos2['company_v']=='TAOBAO/TMALL'\n",
    "taobao =datos2[taobao]\n",
    "taobao.shape"
   ]
  },
  {
   "cell_type": "code",
   "execution_count": 21,
   "id": "1e52fab5",
   "metadata": {},
   "outputs": [],
   "source": [
    "x2 = taobao[taobao.columns[3:-4]].values\n",
    "y2 = taobao['satis'].values"
   ]
  },
  {
   "cell_type": "code",
   "execution_count": 22,
   "id": "d14dac3d",
   "metadata": {},
   "outputs": [],
   "source": [
    "X_train2, X_test2, y_train2, y_test2 = train_test_split(x2, y2, test_size=0.3, random_state=42)"
   ]
  },
  {
   "cell_type": "markdown",
   "id": "3787977f",
   "metadata": {},
   "source": [
    "### Crear un modelo de regresión multilineallineal"
   ]
  },
  {
   "cell_type": "code",
   "execution_count": 23,
   "id": "8180493b",
   "metadata": {},
   "outputs": [],
   "source": [
    "modelo2 = linear_model.LinearRegression().fit(X_train2, y_train2)\n",
    "y_esti2= modelo2.predict(X_test2)"
   ]
  },
  {
   "cell_type": "markdown",
   "id": "a7b921c4",
   "metadata": {},
   "source": [
    "### Validación del modelo"
   ]
  },
  {
   "cell_type": "code",
   "execution_count": 24,
   "id": "01b759f9",
   "metadata": {},
   "outputs": [
    {
     "name": "stdout",
     "output_type": "stream",
     "text": [
      "Coeficiente de determinación R2 para Taobao es: 0.81\n"
     ]
    }
   ],
   "source": [
    "r22 = r2_score(y_test2, y_esti2)\n",
    "print(f\"Coeficiente de determinación R2 para Taobao es: {r22:.2f}\")"
   ]
  },
  {
   "cell_type": "markdown",
   "id": "af914e75",
   "metadata": {},
   "source": [
    "### calcular los errores del modelo"
   ]
  },
  {
   "cell_type": "code",
   "execution_count": 25,
   "id": "5691ba9a",
   "metadata": {},
   "outputs": [
    {
     "name": "stdout",
     "output_type": "stream",
     "text": [
      "Error promedio - Regresion Multilineal: 0.34\n",
      "Error MSE - Regresion Multilineal: 0.215\n"
     ]
    }
   ],
   "source": [
    "print('Error promedio - Regresion Multilineal:', round(mean_absolute_error(y_test2, y_esti2),3))\n",
    "print('Error MSE - Regresion Multilineal:', round(mean_squared_error(y_test2, y_esti2),3))"
   ]
  },
  {
   "cell_type": "code",
   "execution_count": 26,
   "id": "8b3125a2",
   "metadata": {},
   "outputs": [
    {
     "name": "stdout",
     "output_type": "stream",
     "text": [
      "coeficiente:poverq: 0.046\n",
      "coeficiente:soverq: 0.062\n",
      "coeficiente:pq: 0.123\n",
      "coeficiente:VN_1009_Q20A: 0.529\n",
      "coeficiente:VN_1009_TP01: 0.081\n",
      "coeficiente:VN_1009_TP02: 0.053\n",
      "coeficiente:VN_1009_TP03: 0.025\n",
      "coeficiente:VN_1009_TP04: -0.024\n",
      "coeficiente:VN_1009_TP05: 0.016\n",
      "coeficiente:VN_1009_TP06: 0.035\n",
      "coeficiente:VN_1009_TP11: 0.085\n",
      "coeficiente:VN_1009_TP12: 0.022\n",
      "coeficiente:VN_1009_TP13: -0.005\n",
      "coeficiente:VN_1009_TP16: 0.056\n",
      "coeficiente:VN_1009_TP17: -0.092\n",
      "coeficiente:VN_1009_TP19: 0.108\n",
      "coeficiente:VN_1009_TP25A: 0.006\n",
      "coeficiente:age: -0.0\n",
      "coeficiente:Chinese: 0.0\n"
     ]
    }
   ],
   "source": [
    "colum = datos2.columns[3:-4]\n",
    "for i in range(0,19):\n",
    "    print(f'coeficiente:{colum[i]}:',round(modelo2.coef_[i],3))"
   ]
  },
  {
   "cell_type": "markdown",
   "id": "66241249",
   "metadata": {},
   "source": [
    "$$\\mbox{Conclusiones}$$"
   ]
  },
  {
   "cell_type": "markdown",
   "id": "aeea9208",
   "metadata": {},
   "source": [
    "- Como vimos en el Business Understanding la competencia y la parte cultural juegan un papel muy importante a la hora de impactar en un mercado, en el caso de Amazon, llegar a Singapur ha sido todo un reto, porque en principio el grupo Alibaba tienen una participación en el sector de comercio electrónico muy fuerte, asociado claramente a un tema de gustos culturales, lo que comúnmente se llama fidelidad a la marca y a lo que Amazon no podría llegar a cambiar tan fácil.  \n",
    "\n",
    "\n",
    "- Por otra parte, los medios de pago, la diversificación en los productos ofrecidos, así como la calidad y precio de estos, puede ser un factor determinante a la hora de elegir en que plataforma comprar, en donde empresas como Taobao y Tmall tienden a ser preferidas sobre Amazon, en gran parte de China.\n"
   ]
  }
 ],
 "metadata": {
  "kernelspec": {
   "display_name": "Python 3 (ipykernel)",
   "language": "python",
   "name": "python3"
  },
  "language_info": {
   "codemirror_mode": {
    "name": "ipython",
    "version": 3
   },
   "file_extension": ".py",
   "mimetype": "text/x-python",
   "name": "python",
   "nbconvert_exporter": "python",
   "pygments_lexer": "ipython3",
   "version": "3.11.0"
  }
 },
 "nbformat": 4,
 "nbformat_minor": 5
}
