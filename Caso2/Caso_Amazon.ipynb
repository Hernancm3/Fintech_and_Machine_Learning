{
 "cells": [
  {
   "cell_type": "markdown",
   "id": "5433f7e9",
   "metadata": {},
   "source": [
    "# CASO AMAZON \n",
    "\n",
    "Integrantes:\n",
    "\n",
    "    -Hernan Carmelo Cavadias Martinez\n",
    "    -Duvan Santiago Castro Bolivar \n",
    "    -David Santiago Buitrago Norato\n",
    "    -Miguel Angel Malagón Romero"
   ]
  },
  {
   "cell_type": "markdown",
   "id": "e38bed6d",
   "metadata": {},
   "source": [
    "## Data Understanding"
   ]
  },
  {
   "cell_type": "markdown",
   "id": "d5eefa0b",
   "metadata": {},
   "source": [
    "## Data Preparation"
   ]
  },
  {
   "cell_type": "code",
   "execution_count": 1,
   "id": "b90d203f",
   "metadata": {},
   "outputs": [],
   "source": [
    "import pandas as pd\n",
    "import numpy as np\n",
    "import matplotlib.pyplot as plt\n",
    "import os\n",
    "import platform\n",
    "import seaborn as sns\n",
    "from sklearn.model_selection import train_test_split\n",
    "from sklearn import linear_model\n",
    "from sklearn.metrics import r2_score, mean_absolute_error, mean_squared_error"
   ]
  },
  {
   "cell_type": "code",
   "execution_count": 63,
   "id": "e8e9a6fe",
   "metadata": {},
   "outputs": [],
   "source": []
  },
  {
   "cell_type": "code",
   "execution_count": 2,
   "id": "c93feccd",
   "metadata": {},
   "outputs": [],
   "source": [
    "# Importacion de la base de datos\n",
    "datos = pd.read_excel('DB.xlsx')"
   ]
  },
  {
   "cell_type": "code",
   "execution_count": 45,
   "id": "d6fc37d1",
   "metadata": {},
   "outputs": [
    {
     "data": {
      "text/html": [
       "<div>\n",
       "<style scoped>\n",
       "    .dataframe tbody tr th:only-of-type {\n",
       "        vertical-align: middle;\n",
       "    }\n",
       "\n",
       "    .dataframe tbody tr th {\n",
       "        vertical-align: top;\n",
       "    }\n",
       "\n",
       "    .dataframe thead th {\n",
       "        text-align: right;\n",
       "    }\n",
       "</style>\n",
       "<table border=\"1\" class=\"dataframe\">\n",
       "  <thead>\n",
       "    <tr style=\"text-align: right;\">\n",
       "      <th></th>\n",
       "      <th>count</th>\n",
       "      <th>mean</th>\n",
       "      <th>std</th>\n",
       "      <th>min</th>\n",
       "      <th>25%</th>\n",
       "      <th>50%</th>\n",
       "      <th>75%</th>\n",
       "      <th>max</th>\n",
       "    </tr>\n",
       "  </thead>\n",
       "  <tbody>\n",
       "    <tr>\n",
       "      <th>uid</th>\n",
       "      <td>1600.0</td>\n",
       "      <td>2948.575000</td>\n",
       "      <td>1717.270229</td>\n",
       "      <td>5.0</td>\n",
       "      <td>1478.5</td>\n",
       "      <td>2877.0</td>\n",
       "      <td>4395.5</td>\n",
       "      <td>6087.0</td>\n",
       "    </tr>\n",
       "    <tr>\n",
       "      <th>satis</th>\n",
       "      <td>1600.0</td>\n",
       "      <td>7.575625</td>\n",
       "      <td>1.192233</td>\n",
       "      <td>2.0</td>\n",
       "      <td>7.0</td>\n",
       "      <td>8.0</td>\n",
       "      <td>8.0</td>\n",
       "      <td>10.0</td>\n",
       "    </tr>\n",
       "    <tr>\n",
       "      <th>poverq</th>\n",
       "      <td>1600.0</td>\n",
       "      <td>7.573750</td>\n",
       "      <td>1.362248</td>\n",
       "      <td>2.0</td>\n",
       "      <td>7.0</td>\n",
       "      <td>8.0</td>\n",
       "      <td>8.0</td>\n",
       "      <td>10.0</td>\n",
       "    </tr>\n",
       "    <tr>\n",
       "      <th>soverq</th>\n",
       "      <td>1600.0</td>\n",
       "      <td>7.548750</td>\n",
       "      <td>1.314802</td>\n",
       "      <td>2.0</td>\n",
       "      <td>7.0</td>\n",
       "      <td>8.0</td>\n",
       "      <td>8.0</td>\n",
       "      <td>10.0</td>\n",
       "    </tr>\n",
       "    <tr>\n",
       "      <th>pq</th>\n",
       "      <td>1600.0</td>\n",
       "      <td>7.573125</td>\n",
       "      <td>1.363200</td>\n",
       "      <td>2.0</td>\n",
       "      <td>7.0</td>\n",
       "      <td>8.0</td>\n",
       "      <td>8.0</td>\n",
       "      <td>10.0</td>\n",
       "    </tr>\n",
       "    <tr>\n",
       "      <th>VN_1009_Q20A</th>\n",
       "      <td>1600.0</td>\n",
       "      <td>7.669375</td>\n",
       "      <td>1.243897</td>\n",
       "      <td>2.0</td>\n",
       "      <td>7.0</td>\n",
       "      <td>8.0</td>\n",
       "      <td>8.0</td>\n",
       "      <td>10.0</td>\n",
       "    </tr>\n",
       "    <tr>\n",
       "      <th>VN_1009_TP01</th>\n",
       "      <td>1600.0</td>\n",
       "      <td>7.858125</td>\n",
       "      <td>1.046987</td>\n",
       "      <td>3.0</td>\n",
       "      <td>7.0</td>\n",
       "      <td>8.0</td>\n",
       "      <td>9.0</td>\n",
       "      <td>10.0</td>\n",
       "    </tr>\n",
       "    <tr>\n",
       "      <th>VN_1009_TP02</th>\n",
       "      <td>1600.0</td>\n",
       "      <td>7.596250</td>\n",
       "      <td>1.267573</td>\n",
       "      <td>2.0</td>\n",
       "      <td>7.0</td>\n",
       "      <td>8.0</td>\n",
       "      <td>9.0</td>\n",
       "      <td>10.0</td>\n",
       "    </tr>\n",
       "    <tr>\n",
       "      <th>VN_1009_TP03</th>\n",
       "      <td>1600.0</td>\n",
       "      <td>7.631875</td>\n",
       "      <td>1.199900</td>\n",
       "      <td>2.0</td>\n",
       "      <td>7.0</td>\n",
       "      <td>8.0</td>\n",
       "      <td>8.0</td>\n",
       "      <td>10.0</td>\n",
       "    </tr>\n",
       "    <tr>\n",
       "      <th>VN_1009_TP04</th>\n",
       "      <td>1600.0</td>\n",
       "      <td>7.742500</td>\n",
       "      <td>1.179327</td>\n",
       "      <td>2.0</td>\n",
       "      <td>7.0</td>\n",
       "      <td>8.0</td>\n",
       "      <td>9.0</td>\n",
       "      <td>10.0</td>\n",
       "    </tr>\n",
       "    <tr>\n",
       "      <th>VN_1009_TP05</th>\n",
       "      <td>1600.0</td>\n",
       "      <td>7.711250</td>\n",
       "      <td>1.153779</td>\n",
       "      <td>2.0</td>\n",
       "      <td>7.0</td>\n",
       "      <td>8.0</td>\n",
       "      <td>8.0</td>\n",
       "      <td>10.0</td>\n",
       "    </tr>\n",
       "    <tr>\n",
       "      <th>VN_1009_TP06</th>\n",
       "      <td>1600.0</td>\n",
       "      <td>7.760625</td>\n",
       "      <td>1.361335</td>\n",
       "      <td>2.0</td>\n",
       "      <td>7.0</td>\n",
       "      <td>8.0</td>\n",
       "      <td>9.0</td>\n",
       "      <td>10.0</td>\n",
       "    </tr>\n",
       "    <tr>\n",
       "      <th>VN_1009_TP11</th>\n",
       "      <td>1600.0</td>\n",
       "      <td>7.698125</td>\n",
       "      <td>1.141407</td>\n",
       "      <td>2.0</td>\n",
       "      <td>7.0</td>\n",
       "      <td>8.0</td>\n",
       "      <td>8.0</td>\n",
       "      <td>10.0</td>\n",
       "    </tr>\n",
       "    <tr>\n",
       "      <th>VN_1009_TP12</th>\n",
       "      <td>1600.0</td>\n",
       "      <td>7.831875</td>\n",
       "      <td>1.185110</td>\n",
       "      <td>3.0</td>\n",
       "      <td>7.0</td>\n",
       "      <td>8.0</td>\n",
       "      <td>9.0</td>\n",
       "      <td>10.0</td>\n",
       "    </tr>\n",
       "    <tr>\n",
       "      <th>VN_1009_TP13</th>\n",
       "      <td>1600.0</td>\n",
       "      <td>7.943125</td>\n",
       "      <td>5.595262</td>\n",
       "      <td>2.0</td>\n",
       "      <td>7.0</td>\n",
       "      <td>8.0</td>\n",
       "      <td>8.0</td>\n",
       "      <td>97.0</td>\n",
       "    </tr>\n",
       "    <tr>\n",
       "      <th>VN_1009_TP16</th>\n",
       "      <td>1600.0</td>\n",
       "      <td>7.788750</td>\n",
       "      <td>2.554056</td>\n",
       "      <td>2.0</td>\n",
       "      <td>7.0</td>\n",
       "      <td>8.0</td>\n",
       "      <td>9.0</td>\n",
       "      <td>97.0</td>\n",
       "    </tr>\n",
       "    <tr>\n",
       "      <th>VN_1009_TP17</th>\n",
       "      <td>1600.0</td>\n",
       "      <td>7.850000</td>\n",
       "      <td>1.282489</td>\n",
       "      <td>2.0</td>\n",
       "      <td>7.0</td>\n",
       "      <td>8.0</td>\n",
       "      <td>9.0</td>\n",
       "      <td>10.0</td>\n",
       "    </tr>\n",
       "    <tr>\n",
       "      <th>VN_1009_TP19</th>\n",
       "      <td>1600.0</td>\n",
       "      <td>23.423125</td>\n",
       "      <td>34.356340</td>\n",
       "      <td>1.0</td>\n",
       "      <td>7.0</td>\n",
       "      <td>8.0</td>\n",
       "      <td>9.0</td>\n",
       "      <td>97.0</td>\n",
       "    </tr>\n",
       "    <tr>\n",
       "      <th>VN_1009_TP25A</th>\n",
       "      <td>1600.0</td>\n",
       "      <td>2.232500</td>\n",
       "      <td>0.792203</td>\n",
       "      <td>1.0</td>\n",
       "      <td>2.0</td>\n",
       "      <td>2.0</td>\n",
       "      <td>3.0</td>\n",
       "      <td>3.0</td>\n",
       "    </tr>\n",
       "    <tr>\n",
       "      <th>age</th>\n",
       "      <td>1600.0</td>\n",
       "      <td>35.349375</td>\n",
       "      <td>8.463796</td>\n",
       "      <td>18.0</td>\n",
       "      <td>29.0</td>\n",
       "      <td>34.0</td>\n",
       "      <td>42.0</td>\n",
       "      <td>66.0</td>\n",
       "    </tr>\n",
       "    <tr>\n",
       "      <th>race</th>\n",
       "      <td>1600.0</td>\n",
       "      <td>1.413750</td>\n",
       "      <td>0.928359</td>\n",
       "      <td>1.0</td>\n",
       "      <td>1.0</td>\n",
       "      <td>1.0</td>\n",
       "      <td>1.0</td>\n",
       "      <td>5.0</td>\n",
       "    </tr>\n",
       "  </tbody>\n",
       "</table>\n",
       "</div>"
      ],
      "text/plain": [
       "                count         mean          std   min     25%     50%     75%  \\\n",
       "uid            1600.0  2948.575000  1717.270229   5.0  1478.5  2877.0  4395.5   \n",
       "satis          1600.0     7.575625     1.192233   2.0     7.0     8.0     8.0   \n",
       "poverq         1600.0     7.573750     1.362248   2.0     7.0     8.0     8.0   \n",
       "soverq         1600.0     7.548750     1.314802   2.0     7.0     8.0     8.0   \n",
       "pq             1600.0     7.573125     1.363200   2.0     7.0     8.0     8.0   \n",
       "VN_1009_Q20A   1600.0     7.669375     1.243897   2.0     7.0     8.0     8.0   \n",
       "VN_1009_TP01   1600.0     7.858125     1.046987   3.0     7.0     8.0     9.0   \n",
       "VN_1009_TP02   1600.0     7.596250     1.267573   2.0     7.0     8.0     9.0   \n",
       "VN_1009_TP03   1600.0     7.631875     1.199900   2.0     7.0     8.0     8.0   \n",
       "VN_1009_TP04   1600.0     7.742500     1.179327   2.0     7.0     8.0     9.0   \n",
       "VN_1009_TP05   1600.0     7.711250     1.153779   2.0     7.0     8.0     8.0   \n",
       "VN_1009_TP06   1600.0     7.760625     1.361335   2.0     7.0     8.0     9.0   \n",
       "VN_1009_TP11   1600.0     7.698125     1.141407   2.0     7.0     8.0     8.0   \n",
       "VN_1009_TP12   1600.0     7.831875     1.185110   3.0     7.0     8.0     9.0   \n",
       "VN_1009_TP13   1600.0     7.943125     5.595262   2.0     7.0     8.0     8.0   \n",
       "VN_1009_TP16   1600.0     7.788750     2.554056   2.0     7.0     8.0     9.0   \n",
       "VN_1009_TP17   1600.0     7.850000     1.282489   2.0     7.0     8.0     9.0   \n",
       "VN_1009_TP19   1600.0    23.423125    34.356340   1.0     7.0     8.0     9.0   \n",
       "VN_1009_TP25A  1600.0     2.232500     0.792203   1.0     2.0     2.0     3.0   \n",
       "age            1600.0    35.349375     8.463796  18.0    29.0    34.0    42.0   \n",
       "race           1600.0     1.413750     0.928359   1.0     1.0     1.0     1.0   \n",
       "\n",
       "                  max  \n",
       "uid            6087.0  \n",
       "satis            10.0  \n",
       "poverq           10.0  \n",
       "soverq           10.0  \n",
       "pq               10.0  \n",
       "VN_1009_Q20A     10.0  \n",
       "VN_1009_TP01     10.0  \n",
       "VN_1009_TP02     10.0  \n",
       "VN_1009_TP03     10.0  \n",
       "VN_1009_TP04     10.0  \n",
       "VN_1009_TP05     10.0  \n",
       "VN_1009_TP06     10.0  \n",
       "VN_1009_TP11     10.0  \n",
       "VN_1009_TP12     10.0  \n",
       "VN_1009_TP13     97.0  \n",
       "VN_1009_TP16     97.0  \n",
       "VN_1009_TP17     10.0  \n",
       "VN_1009_TP19     97.0  \n",
       "VN_1009_TP25A     3.0  \n",
       "age              66.0  \n",
       "race              5.0  "
      ]
     },
     "execution_count": 45,
     "metadata": {},
     "output_type": "execute_result"
    }
   ],
   "source": [
    "datos.describe().T"
   ]
  },
  {
   "cell_type": "markdown",
   "id": "e41064f5",
   "metadata": {},
   "source": [
    "Como podemos ver la mayoría de las variables son categóricas las cuales se encuentran entre 1 y 10, notamos que en algunas variables tenemos observaciones que registran un 97, direccionándonos al diccionario de la base de datos, notamos que hace parte de las observaciones en donde los encuetados no saben/ no responden. \n",
    "\n",
    "Para tratar dichas observaciones vamos a hacer un conteo del total de observaciones que presentan dichas problemáticas, para analizar el eliminarlas o no del modelo. \n",
    " "
   ]
  },
  {
   "cell_type": "code",
   "execution_count": 4,
   "id": "72d3aecd",
   "metadata": {},
   "outputs": [
    {
     "data": {
      "text/plain": [
       "True     1311\n",
       "False     289\n",
       "dtype: int64"
      ]
     },
     "execution_count": 4,
     "metadata": {},
     "output_type": "execute_result"
    }
   ],
   "source": [
    "(datos != 97).all(axis=1).value_counts()"
   ]
  },
  {
   "cell_type": "markdown",
   "id": "2e585ea6",
   "metadata": {},
   "source": [
    "Como vemos notamos que hay 289 observaciones que presentan estas problematicas, con el fin de no afectar nuestro modelo lo vamos a borrar. "
   ]
  },
  {
   "cell_type": "code",
   "execution_count": 46,
   "id": "d0c5d7a8",
   "metadata": {},
   "outputs": [
    {
     "data": {
      "text/plain": [
       "(1311, 22)"
      ]
     },
     "execution_count": 46,
     "metadata": {},
     "output_type": "execute_result"
    }
   ],
   "source": [
    "filtro = (datos[datos.columns[5:]]!=97)\n",
    "datos2 = datos[filtro]\n",
    "datos2.update(datos.iloc[:, 0:5])\n",
    "datos2.dropna(axis=0,inplace=True)\n",
    "datos2.reset_index(drop=True, inplace=True)\n",
    "datos2.shape"
   ]
  },
  {
   "cell_type": "markdown",
   "id": "0b8dfbc3",
   "metadata": {},
   "source": [
    "Corregido el error, vamos volver categorica la variable de étinia a través de Dummis."
   ]
  },
  {
   "cell_type": "code",
   "execution_count": 47,
   "id": "a47349c5",
   "metadata": {},
   "outputs": [],
   "source": [
    "etnia = {1:\"Chinese\", 2:\"Malay\", 3:\"Indian\", 4:\"Eurasian\", 5:\"Others\"}\n",
    "for valor, nv in etnia.items():\n",
    "    datos2['race'] = datos2['race'].replace(valor, nv)"
   ]
  },
  {
   "cell_type": "code",
   "execution_count": 48,
   "id": "30898b06",
   "metadata": {},
   "outputs": [
    {
     "data": {
      "text/html": [
       "<div>\n",
       "<style scoped>\n",
       "    .dataframe tbody tr th:only-of-type {\n",
       "        vertical-align: middle;\n",
       "    }\n",
       "\n",
       "    .dataframe tbody tr th {\n",
       "        vertical-align: top;\n",
       "    }\n",
       "\n",
       "    .dataframe thead th {\n",
       "        text-align: right;\n",
       "    }\n",
       "</style>\n",
       "<table border=\"1\" class=\"dataframe\">\n",
       "  <thead>\n",
       "    <tr style=\"text-align: right;\">\n",
       "      <th></th>\n",
       "      <th>uid</th>\n",
       "      <th>company_v</th>\n",
       "      <th>satis</th>\n",
       "      <th>poverq</th>\n",
       "      <th>soverq</th>\n",
       "      <th>pq</th>\n",
       "      <th>VN_1009_Q20A</th>\n",
       "      <th>VN_1009_TP01</th>\n",
       "      <th>VN_1009_TP02</th>\n",
       "      <th>VN_1009_TP03</th>\n",
       "      <th>...</th>\n",
       "      <th>VN_1009_TP16</th>\n",
       "      <th>VN_1009_TP17</th>\n",
       "      <th>VN_1009_TP19</th>\n",
       "      <th>VN_1009_TP25A</th>\n",
       "      <th>age</th>\n",
       "      <th>Chinese</th>\n",
       "      <th>Eurasian</th>\n",
       "      <th>Indian</th>\n",
       "      <th>Malay</th>\n",
       "      <th>Others</th>\n",
       "    </tr>\n",
       "  </thead>\n",
       "  <tbody>\n",
       "    <tr>\n",
       "      <th>0</th>\n",
       "      <td>5.0</td>\n",
       "      <td>ZALORA</td>\n",
       "      <td>7.0</td>\n",
       "      <td>9.0</td>\n",
       "      <td>7.0</td>\n",
       "      <td>6</td>\n",
       "      <td>8</td>\n",
       "      <td>6</td>\n",
       "      <td>7</td>\n",
       "      <td>6</td>\n",
       "      <td>...</td>\n",
       "      <td>9.0</td>\n",
       "      <td>8</td>\n",
       "      <td>9.0</td>\n",
       "      <td>1</td>\n",
       "      <td>30</td>\n",
       "      <td>1</td>\n",
       "      <td>0</td>\n",
       "      <td>0</td>\n",
       "      <td>0</td>\n",
       "      <td>0</td>\n",
       "    </tr>\n",
       "    <tr>\n",
       "      <th>1</th>\n",
       "      <td>11.0</td>\n",
       "      <td>FAVE</td>\n",
       "      <td>7.0</td>\n",
       "      <td>7.0</td>\n",
       "      <td>8.0</td>\n",
       "      <td>8</td>\n",
       "      <td>8</td>\n",
       "      <td>8</td>\n",
       "      <td>7</td>\n",
       "      <td>7</td>\n",
       "      <td>...</td>\n",
       "      <td>7.0</td>\n",
       "      <td>8</td>\n",
       "      <td>6.0</td>\n",
       "      <td>0</td>\n",
       "      <td>29</td>\n",
       "      <td>1</td>\n",
       "      <td>0</td>\n",
       "      <td>0</td>\n",
       "      <td>0</td>\n",
       "      <td>0</td>\n",
       "    </tr>\n",
       "    <tr>\n",
       "      <th>2</th>\n",
       "      <td>15.0</td>\n",
       "      <td>FAVE</td>\n",
       "      <td>6.0</td>\n",
       "      <td>6.0</td>\n",
       "      <td>7.0</td>\n",
       "      <td>7</td>\n",
       "      <td>7</td>\n",
       "      <td>8</td>\n",
       "      <td>7</td>\n",
       "      <td>6</td>\n",
       "      <td>...</td>\n",
       "      <td>7.0</td>\n",
       "      <td>7</td>\n",
       "      <td>8.0</td>\n",
       "      <td>0</td>\n",
       "      <td>42</td>\n",
       "      <td>1</td>\n",
       "      <td>0</td>\n",
       "      <td>0</td>\n",
       "      <td>0</td>\n",
       "      <td>0</td>\n",
       "    </tr>\n",
       "  </tbody>\n",
       "</table>\n",
       "<p>3 rows × 26 columns</p>\n",
       "</div>"
      ],
      "text/plain": [
       "    uid company_v  satis  poverq  soverq  pq  VN_1009_Q20A  VN_1009_TP01  \\\n",
       "0   5.0    ZALORA    7.0     9.0     7.0   6             8             6   \n",
       "1  11.0      FAVE    7.0     7.0     8.0   8             8             8   \n",
       "2  15.0      FAVE    6.0     6.0     7.0   7             7             8   \n",
       "\n",
       "   VN_1009_TP02  VN_1009_TP03  ...  VN_1009_TP16  VN_1009_TP17  VN_1009_TP19  \\\n",
       "0             7             6  ...           9.0             8           9.0   \n",
       "1             7             7  ...           7.0             8           6.0   \n",
       "2             7             6  ...           7.0             7           8.0   \n",
       "\n",
       "   VN_1009_TP25A  age  Chinese  Eurasian  Indian  Malay  Others  \n",
       "0              1   30        1         0       0      0       0  \n",
       "1              0   29        1         0       0      0       0  \n",
       "2              0   42        1         0       0      0       0  \n",
       "\n",
       "[3 rows x 26 columns]"
      ]
     },
     "execution_count": 48,
     "metadata": {},
     "output_type": "execute_result"
    }
   ],
   "source": [
    "df_dummi = pd.get_dummies(datos2['race'],prefix_sep ='_',drop_first=True)\n",
    "datos2 = pd.concat([datos2, df_dummi], axis=1)\n",
    "datos2.rename(columns={'race':\"Chinese\"}, inplace=True)\n",
    "datos2['Chinese'] = datos2['Chinese'].apply(lambda x: 1 if x == 'Chinese' else 0) # remplaza por 1 y 0\n",
    "datos2['VN_1009_TP25A'] = datos2['VN_1009_TP25A'].apply(lambda x: 1 if x == 2 else 0) # Tipo de tienda (virtual)\n",
    "datos2.head(3)"
   ]
  },
  {
   "cell_type": "markdown",
   "id": "e17f4cc3",
   "metadata": {},
   "source": [
    "## Modelación"
   ]
  },
  {
   "cell_type": "markdown",
   "id": "051ee898",
   "metadata": {},
   "source": [
    "Vamos a empezar con un modelo para Amazon"
   ]
  },
  {
   "cell_type": "code",
   "execution_count": 97,
   "id": "2f626910",
   "metadata": {},
   "outputs": [
    {
     "data": {
      "text/plain": [
       "(159, 26)"
      ]
     },
     "execution_count": 97,
     "metadata": {},
     "output_type": "execute_result"
    }
   ],
   "source": [
    "amazon = datos2['company_v']=='AMAZON'\n",
    "amazon =datos2[amazon]"
   ]
  },
  {
   "cell_type": "markdown",
   "id": "7222a931",
   "metadata": {},
   "source": [
    "### Entrenamiento del modelo"
   ]
  },
  {
   "cell_type": "code",
   "execution_count": 99,
   "id": "c8b65e47",
   "metadata": {},
   "outputs": [],
   "source": [
    "x = amazon[amazon.columns[3:]].values\n",
    "y = amazon['satis'].values"
   ]
  },
  {
   "cell_type": "code",
   "execution_count": 100,
   "id": "0e577fe6",
   "metadata": {},
   "outputs": [],
   "source": [
    "X_train, X_test, y_train, y_test = train_test_split(x, y, test_size=0.3, random_state=42)"
   ]
  },
  {
   "cell_type": "markdown",
   "id": "f0b92218",
   "metadata": {},
   "source": [
    "### Crear un modelo de regresión multilineallineal"
   ]
  },
  {
   "cell_type": "code",
   "execution_count": 101,
   "id": "92d5f9f3",
   "metadata": {},
   "outputs": [],
   "source": [
    "modelo = linear_model.LinearRegression().fit(X_train, y_train)\n",
    "y_esti= modelo.predict(X_test)"
   ]
  },
  {
   "cell_type": "markdown",
   "id": "1fa63165",
   "metadata": {},
   "source": [
    "### Validación del modelo"
   ]
  },
  {
   "cell_type": "code",
   "execution_count": 102,
   "id": "13f45813",
   "metadata": {},
   "outputs": [
    {
     "name": "stdout",
     "output_type": "stream",
     "text": [
      "Coeficiente de determinación R2: 0.87\n"
     ]
    }
   ],
   "source": [
    "r2 = r2_score(y_test, y_esti)\n",
    "print(f\"Coeficiente de determinación R2: {r2:.2f}\")"
   ]
  },
  {
   "cell_type": "markdown",
   "id": "715d5b1c",
   "metadata": {},
   "source": [
    "### calcular los errores del modelo"
   ]
  },
  {
   "cell_type": "code",
   "execution_count": 103,
   "id": "aaebec60",
   "metadata": {},
   "outputs": [
    {
     "name": "stdout",
     "output_type": "stream",
     "text": [
      "Error promedio - Regresion Multilineal: 0.387\n",
      "Error MSE - Regresion Multilineal: 0.251\n"
     ]
    }
   ],
   "source": [
    "print('Error promedio - Regresion Multilineal:', round(mean_absolute_error(y_test, y_esti),3))\n",
    "print('Error MSE - Regresion Multilineal:', round(mean_squared_error(y_test, y_esti),3))"
   ]
  },
  {
   "cell_type": "code",
   "execution_count": 104,
   "id": "2f131dba",
   "metadata": {},
   "outputs": [
    {
     "name": "stdout",
     "output_type": "stream",
     "text": [
      "coeficiente:poverq: 0.096\n",
      "coeficiente:soverq: 0.067\n",
      "coeficiente:pq: 0.076\n",
      "coeficiente:VN_1009_Q20A: 0.618\n",
      "coeficiente:VN_1009_TP01: -0.003\n",
      "coeficiente:VN_1009_TP02: 0.002\n",
      "coeficiente:VN_1009_TP03: -0.063\n",
      "coeficiente:VN_1009_TP04: 0.024\n",
      "coeficiente:VN_1009_TP05: 0.117\n",
      "coeficiente:VN_1009_TP06: 0.057\n",
      "coeficiente:VN_1009_TP11: 0.071\n",
      "coeficiente:VN_1009_TP12: 0.022\n",
      "coeficiente:VN_1009_TP13: 0.077\n",
      "coeficiente:VN_1009_TP16: -0.012\n",
      "coeficiente:VN_1009_TP17: -0.016\n",
      "coeficiente:VN_1009_TP19: 0.003\n",
      "coeficiente:VN_1009_TP25A: 0.069\n",
      "coeficiente:age: 0.003\n",
      "coeficiente:Chinese: 0.055\n",
      "coeficiente:Eurasian: 0.0\n",
      "coeficiente:Indian: -0.024\n",
      "coeficiente:Malay: 0.082\n",
      "coeficiente:Others: -0.113\n"
     ]
    }
   ],
   "source": [
    "colum = datos2.columns[3:]\n",
    "for i in range(0,23):\n",
    "    print(f'coeficiente:{colum[i]}:',round(modelo.coef_[i],3))"
   ]
  }
 ],
 "metadata": {
  "kernelspec": {
   "display_name": "Python 3 (ipykernel)",
   "language": "python",
   "name": "python3"
  },
  "language_info": {
   "codemirror_mode": {
    "name": "ipython",
    "version": 3
   },
   "file_extension": ".py",
   "mimetype": "text/x-python",
   "name": "python",
   "nbconvert_exporter": "python",
   "pygments_lexer": "ipython3",
   "version": "3.9.7"
  }
 },
 "nbformat": 4,
 "nbformat_minor": 5
}
